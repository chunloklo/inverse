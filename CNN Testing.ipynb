{
 "cells": [
  {
   "cell_type": "code",
   "execution_count": 1,
   "metadata": {},
   "outputs": [
    {
     "name": "stdout",
     "output_type": "stream",
     "text": [
      "['abbey', 'airport_terminal', 'amphitheater', 'amusement_park', 'aquarium', 'aqueduct', 'art_gallery', 'assembly_line', 'auditorium']\n",
      "Loading Topic: abbey\n",
      "Loading Topic: airport_terminal\n",
      "Loading Topic: amphitheater\n",
      "Loading Topic: amusement_park\n",
      "Loading Topic: aquarium\n",
      "Loading Topic: aqueduct\n",
      "Loading Topic: art_gallery\n",
      "Loading Topic: assembly_line\n",
      "Loading Topic: auditorium\n",
      "(9000, 128, 128, 3)\n",
      "['abbey', 'airport_terminal', 'amphitheater', 'amusement_park', 'aquarium', 'aqueduct', 'art_gallery', 'assembly_line', 'auditorium']\n",
      "Loading Topic: abbey\n",
      "Loading Topic: airport_terminal\n",
      "Loading Topic: amphitheater\n",
      "Loading Topic: amusement_park\n",
      "Loading Topic: aquarium\n",
      "Loading Topic: aqueduct\n",
      "Loading Topic: art_gallery\n",
      "Loading Topic: assembly_line\n",
      "Loading Topic: auditorium\n",
      "(9000, 128, 128, 3)\n",
      "['abbey', 'airport_terminal', 'amphitheater', 'amusement_park', 'aquarium', 'aqueduct', 'art_gallery', 'assembly_line', 'auditorium']\n",
      "Loading Topic: abbey\n",
      "Loading Topic: airport_terminal\n",
      "Loading Topic: amphitheater\n",
      "Loading Topic: amusement_park\n",
      "Loading Topic: aquarium\n",
      "Loading Topic: aqueduct\n",
      "Loading Topic: art_gallery\n",
      "Loading Topic: assembly_line\n",
      "Loading Topic: auditorium\n",
      "(9000, 128, 128, 3)\n",
      "['abbey', 'airport_terminal', 'amphitheater', 'amusement_park', 'aquarium', 'aqueduct', 'art_gallery', 'assembly_line', 'auditorium']\n",
      "Loading Topic: abbey\n",
      "Loading Topic: airport_terminal\n",
      "Loading Topic: amphitheater\n",
      "Loading Topic: amusement_park\n",
      "Loading Topic: aquarium\n",
      "Loading Topic: aqueduct\n",
      "Loading Topic: art_gallery\n",
      "Loading Topic: assembly_line\n",
      "Loading Topic: auditorium\n",
      "(9000, 128, 128, 3)\n",
      "['abbey', 'airport_terminal', 'amphitheater', 'amusement_park', 'aquarium', 'aqueduct', 'art_gallery', 'assembly_line', 'auditorium']\n",
      "Loading Topic: abbey\n",
      "Loading Topic: airport_terminal\n",
      "Loading Topic: amphitheater\n",
      "Loading Topic: amusement_park\n",
      "Loading Topic: aquarium\n",
      "Loading Topic: aqueduct\n",
      "Loading Topic: art_gallery\n",
      "Loading Topic: assembly_line\n",
      "Loading Topic: auditorium\n",
      "(9000, 128, 128, 3)\n",
      "['abbey', 'airport_terminal', 'amphitheater', 'amusement_park', 'aquarium', 'aqueduct', 'art_gallery', 'assembly_line', 'auditorium']\n",
      "Loading Topic: abbey\n",
      "Loading Topic: airport_terminal\n",
      "Loading Topic: amphitheater\n",
      "Loading Topic: amusement_park\n",
      "Loading Topic: aquarium\n",
      "Loading Topic: aqueduct\n",
      "Loading Topic: art_gallery\n",
      "Loading Topic: assembly_line\n",
      "Loading Topic: auditorium\n",
      "(9000, 128, 128, 3)\n",
      "['abbey', 'airport_terminal', 'amphitheater', 'amusement_park', 'aquarium', 'aqueduct', 'art_gallery', 'assembly_line', 'auditorium']\n",
      "Loading Topic: abbey\n",
      "Loading Topic: airport_terminal\n",
      "Loading Topic: amphitheater\n",
      "Loading Topic: amusement_park\n",
      "Loading Topic: aquarium\n",
      "Loading Topic: aqueduct\n",
      "Loading Topic: art_gallery\n",
      "Loading Topic: assembly_line\n",
      "Loading Topic: auditorium\n",
      "(9000, 128, 128, 3)\n"
     ]
    }
   ],
   "source": [
    "from loadFilteredData import *\n",
    "#loading all data\n",
    "origImg = loadAllTopicData('original')\n",
    "gingham = loadAllTopicData('gingham')\n",
    "clarendon = loadAllTopicData('clarendon')\n",
    "juno = loadAllTopicData('juno')\n",
    "lark = loadAllTopicData('lark')\n",
    "gotham = loadAllTopicData('gotham')\n",
    "reyes = loadAllTopicData('reyes')"
   ]
  },
  {
   "cell_type": "code",
   "execution_count": 2,
   "metadata": {},
   "outputs": [
    {
     "name": "stdout",
     "output_type": "stream",
     "text": [
      "9000\n",
      "9000\n",
      "9000\n",
      "9000\n",
      "9000\n",
      "9000\n",
      "9000\n"
     ]
    },
    {
     "ename": "KeyboardInterrupt",
     "evalue": "",
     "output_type": "error",
     "traceback": [
      "\u001b[1;31m---------------------------------------------------------------------------\u001b[0m",
      "\u001b[1;31mKeyboardInterrupt\u001b[0m                         Traceback (most recent call last)",
      "\u001b[1;32m<ipython-input-2-c884ea6c9b3a>\u001b[0m in \u001b[0;36m<module>\u001b[1;34m\u001b[0m\n\u001b[0;32m     53\u001b[0m \u001b[1;33m\u001b[0m\u001b[0m\n\u001b[0;32m     54\u001b[0m     \u001b[1;32mreturn\u001b[0m \u001b[0mX\u001b[0m\u001b[1;33m,\u001b[0m \u001b[0my\u001b[0m\u001b[1;33m,\u001b[0m \u001b[0mXtest\u001b[0m\u001b[1;33m,\u001b[0m \u001b[0mytest\u001b[0m\u001b[1;33m,\u001b[0m \u001b[0mXval\u001b[0m\u001b[1;33m,\u001b[0m \u001b[0myval\u001b[0m\u001b[1;33m\u001b[0m\u001b[1;33m\u001b[0m\u001b[0m\n\u001b[1;32m---> 55\u001b[1;33m \u001b[0mX\u001b[0m\u001b[1;33m,\u001b[0m \u001b[0my\u001b[0m\u001b[1;33m,\u001b[0m \u001b[0mXtest\u001b[0m\u001b[1;33m,\u001b[0m \u001b[0mytest\u001b[0m\u001b[1;33m,\u001b[0m \u001b[0mxval\u001b[0m\u001b[1;33m,\u001b[0m \u001b[0myval\u001b[0m \u001b[1;33m=\u001b[0m \u001b[0mcreateDataPlaces\u001b[0m\u001b[1;33m(\u001b[0m\u001b[1;33m[\u001b[0m\u001b[0morigImg\u001b[0m\u001b[1;33m,\u001b[0m \u001b[0mclarendon\u001b[0m\u001b[1;33m,\u001b[0m \u001b[0mgingham\u001b[0m\u001b[1;33m,\u001b[0m \u001b[0mjuno\u001b[0m\u001b[1;33m,\u001b[0m \u001b[0mlark\u001b[0m\u001b[1;33m,\u001b[0m \u001b[0mgotham\u001b[0m\u001b[1;33m,\u001b[0m \u001b[0mreyes\u001b[0m\u001b[1;33m]\u001b[0m\u001b[1;33m,\u001b[0m \u001b[1;36m.9\u001b[0m\u001b[1;33m,\u001b[0m \u001b[1;36m.005\u001b[0m\u001b[1;33m)\u001b[0m\u001b[1;33m\u001b[0m\u001b[1;33m\u001b[0m\u001b[0m\n\u001b[0m\u001b[0;32m     56\u001b[0m \u001b[1;31m# X, y, Xtest, ytest, Xval, yval = createDataPlaces([origImg, clarendon], .9, .005)\u001b[0m\u001b[1;33m\u001b[0m\u001b[1;33m\u001b[0m\u001b[1;33m\u001b[0m\u001b[0m\n",
      "\u001b[1;32m<ipython-input-2-c884ea6c9b3a>\u001b[0m in \u001b[0;36mcreateDataPlaces\u001b[1;34m(images, trainPercentage, validationPercentage)\u001b[0m\n\u001b[0;32m     48\u001b[0m     \u001b[0myval\u001b[0m \u001b[1;33m=\u001b[0m \u001b[0mnp\u001b[0m\u001b[1;33m.\u001b[0m\u001b[0mvstack\u001b[0m\u001b[1;33m(\u001b[0m\u001b[0mvalVectors\u001b[0m\u001b[1;33m)\u001b[0m\u001b[1;33m\u001b[0m\u001b[1;33m\u001b[0m\u001b[0m\n\u001b[0;32m     49\u001b[0m \u001b[1;33m\u001b[0m\u001b[0m\n\u001b[1;32m---> 50\u001b[1;33m     \u001b[0mX\u001b[0m\u001b[1;33m,\u001b[0m \u001b[0my\u001b[0m \u001b[1;33m=\u001b[0m \u001b[0mshuffle\u001b[0m\u001b[1;33m(\u001b[0m\u001b[0mX\u001b[0m\u001b[1;33m,\u001b[0m \u001b[0my\u001b[0m\u001b[1;33m,\u001b[0m \u001b[0mrandom_state\u001b[0m\u001b[1;33m=\u001b[0m\u001b[1;36m0\u001b[0m\u001b[1;33m)\u001b[0m\u001b[1;33m\u001b[0m\u001b[1;33m\u001b[0m\u001b[0m\n\u001b[0m\u001b[0;32m     51\u001b[0m     \u001b[0mXtest\u001b[0m\u001b[1;33m,\u001b[0m \u001b[0mytest\u001b[0m \u001b[1;33m=\u001b[0m \u001b[0mshuffle\u001b[0m\u001b[1;33m(\u001b[0m\u001b[0mXtest\u001b[0m\u001b[1;33m,\u001b[0m \u001b[0mytest\u001b[0m\u001b[1;33m,\u001b[0m \u001b[0mrandom_state\u001b[0m\u001b[1;33m=\u001b[0m\u001b[1;36m0\u001b[0m\u001b[1;33m)\u001b[0m\u001b[1;33m\u001b[0m\u001b[1;33m\u001b[0m\u001b[0m\n\u001b[0;32m     52\u001b[0m     \u001b[0mXval\u001b[0m\u001b[1;33m,\u001b[0m \u001b[0myval\u001b[0m \u001b[1;33m=\u001b[0m \u001b[0mshuffle\u001b[0m\u001b[1;33m(\u001b[0m\u001b[0mXval\u001b[0m\u001b[1;33m,\u001b[0m \u001b[0myval\u001b[0m\u001b[1;33m,\u001b[0m \u001b[0mrandom_state\u001b[0m\u001b[1;33m=\u001b[0m\u001b[1;36m0\u001b[0m\u001b[1;33m)\u001b[0m\u001b[1;33m\u001b[0m\u001b[1;33m\u001b[0m\u001b[0m\n",
      "\u001b[1;32m~\\AppData\\Local\\conda\\conda\\envs\\magiclearning\\lib\\site-packages\\sklearn\\utils\\__init__.py\u001b[0m in \u001b[0;36mshuffle\u001b[1;34m(*arrays, **options)\u001b[0m\n\u001b[0;32m    370\u001b[0m     \"\"\"\n\u001b[0;32m    371\u001b[0m     \u001b[0moptions\u001b[0m\u001b[1;33m[\u001b[0m\u001b[1;34m'replace'\u001b[0m\u001b[1;33m]\u001b[0m \u001b[1;33m=\u001b[0m \u001b[1;32mFalse\u001b[0m\u001b[1;33m\u001b[0m\u001b[1;33m\u001b[0m\u001b[0m\n\u001b[1;32m--> 372\u001b[1;33m     \u001b[1;32mreturn\u001b[0m \u001b[0mresample\u001b[0m\u001b[1;33m(\u001b[0m\u001b[1;33m*\u001b[0m\u001b[0marrays\u001b[0m\u001b[1;33m,\u001b[0m \u001b[1;33m**\u001b[0m\u001b[0moptions\u001b[0m\u001b[1;33m)\u001b[0m\u001b[1;33m\u001b[0m\u001b[1;33m\u001b[0m\u001b[0m\n\u001b[0m\u001b[0;32m    373\u001b[0m \u001b[1;33m\u001b[0m\u001b[0m\n\u001b[0;32m    374\u001b[0m \u001b[1;33m\u001b[0m\u001b[0m\n",
      "\u001b[1;32m~\\AppData\\Local\\conda\\conda\\envs\\magiclearning\\lib\\site-packages\\sklearn\\utils\\__init__.py\u001b[0m in \u001b[0;36mresample\u001b[1;34m(*arrays, **options)\u001b[0m\n\u001b[0;32m    294\u001b[0m     \u001b[1;31m# convert sparse matrices to CSR for row-based indexing\u001b[0m\u001b[1;33m\u001b[0m\u001b[1;33m\u001b[0m\u001b[1;33m\u001b[0m\u001b[0m\n\u001b[0;32m    295\u001b[0m     \u001b[0marrays\u001b[0m \u001b[1;33m=\u001b[0m \u001b[1;33m[\u001b[0m\u001b[0ma\u001b[0m\u001b[1;33m.\u001b[0m\u001b[0mtocsr\u001b[0m\u001b[1;33m(\u001b[0m\u001b[1;33m)\u001b[0m \u001b[1;32mif\u001b[0m \u001b[0missparse\u001b[0m\u001b[1;33m(\u001b[0m\u001b[0ma\u001b[0m\u001b[1;33m)\u001b[0m \u001b[1;32melse\u001b[0m \u001b[0ma\u001b[0m \u001b[1;32mfor\u001b[0m \u001b[0ma\u001b[0m \u001b[1;32min\u001b[0m \u001b[0marrays\u001b[0m\u001b[1;33m]\u001b[0m\u001b[1;33m\u001b[0m\u001b[1;33m\u001b[0m\u001b[0m\n\u001b[1;32m--> 296\u001b[1;33m     \u001b[0mresampled_arrays\u001b[0m \u001b[1;33m=\u001b[0m \u001b[1;33m[\u001b[0m\u001b[0msafe_indexing\u001b[0m\u001b[1;33m(\u001b[0m\u001b[0ma\u001b[0m\u001b[1;33m,\u001b[0m \u001b[0mindices\u001b[0m\u001b[1;33m)\u001b[0m \u001b[1;32mfor\u001b[0m \u001b[0ma\u001b[0m \u001b[1;32min\u001b[0m \u001b[0marrays\u001b[0m\u001b[1;33m]\u001b[0m\u001b[1;33m\u001b[0m\u001b[1;33m\u001b[0m\u001b[0m\n\u001b[0m\u001b[0;32m    297\u001b[0m     \u001b[1;32mif\u001b[0m \u001b[0mlen\u001b[0m\u001b[1;33m(\u001b[0m\u001b[0mresampled_arrays\u001b[0m\u001b[1;33m)\u001b[0m \u001b[1;33m==\u001b[0m \u001b[1;36m1\u001b[0m\u001b[1;33m:\u001b[0m\u001b[1;33m\u001b[0m\u001b[1;33m\u001b[0m\u001b[0m\n\u001b[0;32m    298\u001b[0m         \u001b[1;31m# syntactic sugar for the unit argument case\u001b[0m\u001b[1;33m\u001b[0m\u001b[1;33m\u001b[0m\u001b[1;33m\u001b[0m\u001b[0m\n",
      "\u001b[1;32m~\\AppData\\Local\\conda\\conda\\envs\\magiclearning\\lib\\site-packages\\sklearn\\utils\\__init__.py\u001b[0m in \u001b[0;36m<listcomp>\u001b[1;34m(.0)\u001b[0m\n\u001b[0;32m    294\u001b[0m     \u001b[1;31m# convert sparse matrices to CSR for row-based indexing\u001b[0m\u001b[1;33m\u001b[0m\u001b[1;33m\u001b[0m\u001b[1;33m\u001b[0m\u001b[0m\n\u001b[0;32m    295\u001b[0m     \u001b[0marrays\u001b[0m \u001b[1;33m=\u001b[0m \u001b[1;33m[\u001b[0m\u001b[0ma\u001b[0m\u001b[1;33m.\u001b[0m\u001b[0mtocsr\u001b[0m\u001b[1;33m(\u001b[0m\u001b[1;33m)\u001b[0m \u001b[1;32mif\u001b[0m \u001b[0missparse\u001b[0m\u001b[1;33m(\u001b[0m\u001b[0ma\u001b[0m\u001b[1;33m)\u001b[0m \u001b[1;32melse\u001b[0m \u001b[0ma\u001b[0m \u001b[1;32mfor\u001b[0m \u001b[0ma\u001b[0m \u001b[1;32min\u001b[0m \u001b[0marrays\u001b[0m\u001b[1;33m]\u001b[0m\u001b[1;33m\u001b[0m\u001b[1;33m\u001b[0m\u001b[0m\n\u001b[1;32m--> 296\u001b[1;33m     \u001b[0mresampled_arrays\u001b[0m \u001b[1;33m=\u001b[0m \u001b[1;33m[\u001b[0m\u001b[0msafe_indexing\u001b[0m\u001b[1;33m(\u001b[0m\u001b[0ma\u001b[0m\u001b[1;33m,\u001b[0m \u001b[0mindices\u001b[0m\u001b[1;33m)\u001b[0m \u001b[1;32mfor\u001b[0m \u001b[0ma\u001b[0m \u001b[1;32min\u001b[0m \u001b[0marrays\u001b[0m\u001b[1;33m]\u001b[0m\u001b[1;33m\u001b[0m\u001b[1;33m\u001b[0m\u001b[0m\n\u001b[0m\u001b[0;32m    297\u001b[0m     \u001b[1;32mif\u001b[0m \u001b[0mlen\u001b[0m\u001b[1;33m(\u001b[0m\u001b[0mresampled_arrays\u001b[0m\u001b[1;33m)\u001b[0m \u001b[1;33m==\u001b[0m \u001b[1;36m1\u001b[0m\u001b[1;33m:\u001b[0m\u001b[1;33m\u001b[0m\u001b[1;33m\u001b[0m\u001b[0m\n\u001b[0;32m    298\u001b[0m         \u001b[1;31m# syntactic sugar for the unit argument case\u001b[0m\u001b[1;33m\u001b[0m\u001b[1;33m\u001b[0m\u001b[1;33m\u001b[0m\u001b[0m\n",
      "\u001b[1;32m~\\AppData\\Local\\conda\\conda\\envs\\magiclearning\\lib\\site-packages\\sklearn\\utils\\__init__.py\u001b[0m in \u001b[0;36msafe_indexing\u001b[1;34m(X, indices)\u001b[0m\n\u001b[0;32m    183\u001b[0m                                    indices.dtype.kind == 'i'):\n\u001b[0;32m    184\u001b[0m             \u001b[1;31m# This is often substantially faster than X[indices]\u001b[0m\u001b[1;33m\u001b[0m\u001b[1;33m\u001b[0m\u001b[1;33m\u001b[0m\u001b[0m\n\u001b[1;32m--> 185\u001b[1;33m             \u001b[1;32mreturn\u001b[0m \u001b[0mX\u001b[0m\u001b[1;33m.\u001b[0m\u001b[0mtake\u001b[0m\u001b[1;33m(\u001b[0m\u001b[0mindices\u001b[0m\u001b[1;33m,\u001b[0m \u001b[0maxis\u001b[0m\u001b[1;33m=\u001b[0m\u001b[1;36m0\u001b[0m\u001b[1;33m)\u001b[0m\u001b[1;33m\u001b[0m\u001b[1;33m\u001b[0m\u001b[0m\n\u001b[0m\u001b[0;32m    186\u001b[0m         \u001b[1;32melse\u001b[0m\u001b[1;33m:\u001b[0m\u001b[1;33m\u001b[0m\u001b[1;33m\u001b[0m\u001b[0m\n\u001b[0;32m    187\u001b[0m             \u001b[1;32mreturn\u001b[0m \u001b[0mX\u001b[0m\u001b[1;33m[\u001b[0m\u001b[0mindices\u001b[0m\u001b[1;33m]\u001b[0m\u001b[1;33m\u001b[0m\u001b[1;33m\u001b[0m\u001b[0m\n",
      "\u001b[1;31mKeyboardInterrupt\u001b[0m: "
     ]
    }
   ],
   "source": [
    "def createDataPlaces(images, trainPercentage, validationPercentage):\n",
    "    categories = len(images)\n",
    "\n",
    "    imgList = []\n",
    "    vectors = []\n",
    "\n",
    "    testImgList = []\n",
    "    testVectors = []\n",
    "\n",
    "    valImgList = []\n",
    "    valVectors = []\n",
    "    \n",
    "\n",
    "    #data for original image\n",
    "    for c in range(categories):\n",
    "        numImages = images[c].shape[0]\n",
    "        print(numImages)\n",
    "        numTrain = int(numImages * trainPercentage)\n",
    "        numVal = int(numTrain * validationPercentage)\n",
    "        \n",
    "        imgList.append(images[c][:numTrain - numVal])\n",
    "        \n",
    "        valImgList.append(images[c][numTrain - numVal:numTrain])\n",
    "\n",
    "        featureVector = np.zeros((numTrain - numVal, categories))\n",
    "        featureVector[:, c] = 1\n",
    "        vectors.append(featureVector)\n",
    "        \n",
    "        featureVector = np.zeros((numVal, categories))\n",
    "        featureVector[:, c] = 1\n",
    "        valVectors.append(featureVector)\n",
    "    \n",
    "        #testing data\n",
    "        testImgList.append(images[c][numTrain:])\n",
    "\n",
    "        featureVector = np.zeros((numImages - numTrain, categories))\n",
    "        featureVector[:, c] = 1\n",
    "        testVectors.append(featureVector)\n",
    "\n",
    "\n",
    "    X = np.vstack(imgList)\n",
    "    y = np.vstack(vectors)\n",
    "\n",
    "    Xtest = np.vstack(testImgList)\n",
    "    ytest = np.vstack(testVectors)\n",
    "    \n",
    "    Xval = np.vstack(valImgList)\n",
    "    yval = np.vstack(valVectors)\n",
    "\n",
    "    X, y = shuffle(X, y, random_state=0)\n",
    "    Xtest, ytest = shuffle(Xtest, ytest, random_state=0)\n",
    "    Xval, yval = shuffle(Xval, yval, random_state=0)\n",
    "    \n",
    "    return X, y, Xtest, ytest, Xval, yval\n",
    "X, y, Xtest, ytest, xval, yval = createDataPlaces([origImg, clarendon, gingham, juno, lark, gotham, reyes], .9, .005)\n",
    "# X, y, Xtest, ytest, Xval, yval = createDataPlaces([origImg, clarendon], .9, .005)"
   ]
  },
  {
   "cell_type": "code",
   "execution_count": 4,
   "metadata": {},
   "outputs": [
    {
     "name": "stdout",
     "output_type": "stream",
     "text": [
      "(80, 128, 128, 3)\n",
      "(280, 7)\n"
     ]
    }
   ],
   "source": [
    "print(Xval.shape)\n",
    "print(yval.shape)"
   ]
  },
  {
   "cell_type": "code",
   "execution_count": 6,
   "metadata": {},
   "outputs": [],
   "source": [
    "def splitImg(X, y):\n",
    "    Xsmall = []\n",
    "    ysmall = []\n",
    "    for i in range(X.shape[0]):\n",
    "        l = 0\n",
    "        for j in range(0, X.shape[1], X.shape[1] // 4):\n",
    "            for k in range(0, X.shape[1], X.shape[1] // 4):\n",
    "                block = X[i, j : j + 32, k : k + 32]\n",
    "                Xsmall.append(block)\n",
    "                ysmall.append(y[i])\n",
    "                l += 1\n",
    "    Xsmall = np.array(Xsmall)\n",
    "    ysmall = np.array(ysmall)\n",
    "    return Xsmall, ysmall"
   ]
  },
  {
   "cell_type": "code",
   "execution_count": 7,
   "metadata": {},
   "outputs": [],
   "source": [
    "Xsmall, ysmall = splitImg(X, y)"
   ]
  },
  {
   "cell_type": "code",
   "execution_count": 8,
   "metadata": {},
   "outputs": [
    {
     "data": {
      "text/plain": [
       "(257920, 32, 32, 3)"
      ]
     },
     "execution_count": 8,
     "metadata": {},
     "output_type": "execute_result"
    }
   ],
   "source": [
    "Xsmall.shape"
   ]
  },
  {
   "cell_type": "code",
   "execution_count": 9,
   "metadata": {},
   "outputs": [],
   "source": [
    "XvalSmall, yvalSmall = splitImg(Xval, yval)"
   ]
  },
  {
   "cell_type": "code",
   "execution_count": 10,
   "metadata": {},
   "outputs": [
    {
     "data": {
      "text/plain": [
       "(1280, 32, 32, 3)"
      ]
     },
     "execution_count": 10,
     "metadata": {},
     "output_type": "execute_result"
    }
   ],
   "source": [
    "XvalSmall.shape"
   ]
  },
  {
   "cell_type": "code",
   "execution_count": 11,
   "metadata": {},
   "outputs": [
    {
     "name": "stderr",
     "output_type": "stream",
     "text": [
      "Using TensorFlow backend.\n"
     ]
    }
   ],
   "source": [
    "import keras\n",
    "from keras.models import Sequential\n",
    "from keras.layers import Dense, Dropout, Flatten\n",
    "from keras.layers import Conv2D, MaxPooling2D\n",
    "from keras.layers import LeakyReLU\n",
    "import numpy as np\n",
    "\n",
    "model = Sequential()\n",
    "model.add(Conv2D(32, (3, 3), input_shape=(32, 32, 3), strides=2))\n",
    "model.add(LeakyReLU(alpha=0.5))\n",
    "model.add(Conv2D(32, (3, 3), strides = 2))\n",
    "model.add(LeakyReLU(alpha=0.5))\n",
    "model.add(MaxPooling2D(pool_size=3, strides =2))\n",
    "model.add(Flatten())\n",
    "model.add(Dense(128))\n",
    "model.add(LeakyReLU(alpha=0.3))\n",
    "model.add(Dense(256))\n",
    "model.add(LeakyReLU(alpha=0.3))\n",
    "# model.add(Dropout(0.5))\n",
    "model.add(Dense(2, activation='softmax'))\n",
    "model.compile(loss='categorical_crossentropy', optimizer='adam', metrics=['accuracy'])"
   ]
  },
  {
   "cell_type": "code",
   "execution_count": 12,
   "metadata": {
    "scrolled": true
   },
   "outputs": [
    {
     "name": "stdout",
     "output_type": "stream",
     "text": [
      "Train on 257920 samples, validate on 1280 samples\n",
      "Epoch 1/5\n",
      "257920/257920 [==============================] - 29s 113us/step - loss: 2.5714 - acc: 0.7365 - val_loss: 0.2310 - val_acc: 0.9133\n",
      "Epoch 2/5\n",
      "257920/257920 [==============================] - 26s 101us/step - loss: 0.3389 - acc: 0.8441 - val_loss: 0.1395 - val_acc: 0.9414\n",
      "Epoch 3/5\n",
      "257920/257920 [==============================] - 26s 100us/step - loss: 0.2806 - acc: 0.8661 - val_loss: 0.0863 - val_acc: 0.9648\n",
      "Epoch 4/5\n",
      "257920/257920 [==============================] - 25s 98us/step - loss: 0.2489 - acc: 0.8781 - val_loss: 0.0651 - val_acc: 0.9672\n",
      "Epoch 5/5\n",
      "257920/257920 [==============================] - 25s 98us/step - loss: 0.2373 - acc: 0.8828 - val_loss: 0.0866 - val_acc: 0.9625\n"
     ]
    },
    {
     "data": {
      "text/plain": [
       "<keras.callbacks.History at 0x19edc9aecc0>"
      ]
     },
     "execution_count": 12,
     "metadata": {},
     "output_type": "execute_result"
    }
   ],
   "source": [
    "model.fit(Xsmall, ysmall, epochs=5, batch_size=128, validation_data=(XvalSmall, yvalSmall))"
   ]
  },
  {
   "cell_type": "code",
   "execution_count": 13,
   "metadata": {},
   "outputs": [
    {
     "name": "stdout",
     "output_type": "stream",
     "text": [
      "[[14256   144]\n",
      " [ 1557 12843]]\n",
      "0.9409375\n"
     ]
    },
    {
     "data": {
      "text/plain": [
       "(array([0.90153671, 0.98891199]),\n",
       " array([0.99    , 0.891875]),\n",
       " array([0.94369973, 0.93789024]),\n",
       " array([14400, 14400], dtype=int64))"
      ]
     },
     "execution_count": 13,
     "metadata": {},
     "output_type": "execute_result"
    }
   ],
   "source": [
    "XtestSmall, ytestSmall = splitImg(Xtest, ytest)\n",
    "\n",
    "predict = model.predict(XtestSmall)\n",
    "from sklearn.metrics import confusion_matrix\n",
    "print(confusion_matrix(ytestSmall.argmax(axis=1), predict.argmax(axis=1)))\n",
    "from sklearn.metrics import accuracy_score\n",
    "print(accuracy_score(ytestSmall.argmax(axis=1), predict.argmax(axis=1)))\n",
    "from sklearn.metrics import precision_recall_fscore_support\n",
    "precision_recall_fscore_support(ytestSmall.argmax(axis=1), predict.argmax(axis=1))"
   ]
  },
  {
   "cell_type": "code",
   "execution_count": 86,
   "metadata": {},
   "outputs": [],
   "source": [
    "import keras\n",
    "from keras.models import Sequential\n",
    "from keras.layers import Dense, Dropout, Flatten\n",
    "from keras.layers import Conv2D, MaxPooling2D\n",
    "from keras.layers import LeakyReLU\n",
    "import numpy as np\n",
    "\n",
    "model = Sequential()\n",
    "model.add(Conv2D(32, (3, 3), input_shape=(32, 32, 3), strides=2))\n",
    "model.add(LeakyReLU(alpha=0.3))\n",
    "model.add(Conv2D(32, (3, 3), strides = 2))\n",
    "model.add(LeakyReLU(alpha=0.3))\n",
    "model.add(MaxPooling2D(pool_size=3, strides =2))\n",
    "model.add(Flatten())\n",
    "model.add(Dense(128))\n",
    "model.add(LeakyReLU(alpha=0.3))\n",
    "model.add(Dense(256))\n",
    "model.add(LeakyReLU(alpha=0.3))\n",
    "# model.add(Dropout(0.5))\n",
    "model.add(Dense(2, activation='softmax'))\n",
    "model.compile(loss='categorical_crossentropy', optimizer='adam', metrics=['accuracy'])"
   ]
  },
  {
   "cell_type": "code",
   "execution_count": 87,
   "metadata": {},
   "outputs": [
    {
     "name": "stdout",
     "output_type": "stream",
     "text": [
      "Train on 256608 samples, validate on 2592 samples\n",
      "Epoch 1/150\n",
      " 34304/256608 [===>..........................] - ETA: 30s - loss: 1.3212 - acc: 0.6842"
     ]
    },
    {
     "ename": "KeyboardInterrupt",
     "evalue": "",
     "output_type": "error",
     "traceback": [
      "\u001b[1;31m---------------------------------------------------------------------------\u001b[0m",
      "\u001b[1;31mKeyboardInterrupt\u001b[0m                         Traceback (most recent call last)",
      "\u001b[1;32m<ipython-input-87-03623e499d47>\u001b[0m in \u001b[0;36m<module>\u001b[1;34m\u001b[0m\n\u001b[1;32m----> 1\u001b[1;33m \u001b[0mmodel\u001b[0m\u001b[1;33m.\u001b[0m\u001b[0mfit\u001b[0m\u001b[1;33m(\u001b[0m\u001b[0mXsmall\u001b[0m\u001b[1;33m,\u001b[0m \u001b[0mysmall\u001b[0m\u001b[1;33m,\u001b[0m \u001b[0mepochs\u001b[0m\u001b[1;33m=\u001b[0m\u001b[1;36m150\u001b[0m\u001b[1;33m,\u001b[0m \u001b[0mbatch_size\u001b[0m\u001b[1;33m=\u001b[0m\u001b[1;36m128\u001b[0m\u001b[1;33m,\u001b[0m \u001b[0mvalidation_split\u001b[0m\u001b[1;33m=\u001b[0m\u001b[1;36m0.01\u001b[0m\u001b[1;33m)\u001b[0m\u001b[1;33m\u001b[0m\u001b[1;33m\u001b[0m\u001b[0m\n\u001b[0m",
      "\u001b[1;32m~\\AppData\\Local\\conda\\conda\\envs\\magiclearning\\lib\\site-packages\\keras\\models.py\u001b[0m in \u001b[0;36mfit\u001b[1;34m(self, x, y, batch_size, epochs, verbose, callbacks, validation_split, validation_data, shuffle, class_weight, sample_weight, initial_epoch, **kwargs)\u001b[0m\n\u001b[0;32m    891\u001b[0m                               \u001b[0mclass_weight\u001b[0m\u001b[1;33m=\u001b[0m\u001b[0mclass_weight\u001b[0m\u001b[1;33m,\u001b[0m\u001b[1;33m\u001b[0m\u001b[1;33m\u001b[0m\u001b[0m\n\u001b[0;32m    892\u001b[0m                               \u001b[0msample_weight\u001b[0m\u001b[1;33m=\u001b[0m\u001b[0msample_weight\u001b[0m\u001b[1;33m,\u001b[0m\u001b[1;33m\u001b[0m\u001b[1;33m\u001b[0m\u001b[0m\n\u001b[1;32m--> 893\u001b[1;33m                               initial_epoch=initial_epoch)\n\u001b[0m\u001b[0;32m    894\u001b[0m \u001b[1;33m\u001b[0m\u001b[0m\n\u001b[0;32m    895\u001b[0m     def evaluate(self, x, y, batch_size=32, verbose=1,\n",
      "\u001b[1;32m~\\AppData\\Local\\conda\\conda\\envs\\magiclearning\\lib\\site-packages\\keras\\engine\\training.py\u001b[0m in \u001b[0;36mfit\u001b[1;34m(self, x, y, batch_size, epochs, verbose, callbacks, validation_split, validation_data, shuffle, class_weight, sample_weight, initial_epoch, steps_per_epoch, validation_steps, **kwargs)\u001b[0m\n\u001b[0;32m   1629\u001b[0m                               \u001b[0minitial_epoch\u001b[0m\u001b[1;33m=\u001b[0m\u001b[0minitial_epoch\u001b[0m\u001b[1;33m,\u001b[0m\u001b[1;33m\u001b[0m\u001b[1;33m\u001b[0m\u001b[0m\n\u001b[0;32m   1630\u001b[0m                               \u001b[0msteps_per_epoch\u001b[0m\u001b[1;33m=\u001b[0m\u001b[0msteps_per_epoch\u001b[0m\u001b[1;33m,\u001b[0m\u001b[1;33m\u001b[0m\u001b[1;33m\u001b[0m\u001b[0m\n\u001b[1;32m-> 1631\u001b[1;33m                               validation_steps=validation_steps)\n\u001b[0m\u001b[0;32m   1632\u001b[0m \u001b[1;33m\u001b[0m\u001b[0m\n\u001b[0;32m   1633\u001b[0m     def evaluate(self, x=None, y=None,\n",
      "\u001b[1;32m~\\AppData\\Local\\conda\\conda\\envs\\magiclearning\\lib\\site-packages\\keras\\engine\\training.py\u001b[0m in \u001b[0;36m_fit_loop\u001b[1;34m(self, f, ins, out_labels, batch_size, epochs, verbose, callbacks, val_f, val_ins, shuffle, callback_metrics, initial_epoch, steps_per_epoch, validation_steps)\u001b[0m\n\u001b[0;32m   1211\u001b[0m                     \u001b[0mbatch_logs\u001b[0m\u001b[1;33m[\u001b[0m\u001b[1;34m'size'\u001b[0m\u001b[1;33m]\u001b[0m \u001b[1;33m=\u001b[0m \u001b[0mlen\u001b[0m\u001b[1;33m(\u001b[0m\u001b[0mbatch_ids\u001b[0m\u001b[1;33m)\u001b[0m\u001b[1;33m\u001b[0m\u001b[1;33m\u001b[0m\u001b[0m\n\u001b[0;32m   1212\u001b[0m                     \u001b[0mcallbacks\u001b[0m\u001b[1;33m.\u001b[0m\u001b[0mon_batch_begin\u001b[0m\u001b[1;33m(\u001b[0m\u001b[0mbatch_index\u001b[0m\u001b[1;33m,\u001b[0m \u001b[0mbatch_logs\u001b[0m\u001b[1;33m)\u001b[0m\u001b[1;33m\u001b[0m\u001b[1;33m\u001b[0m\u001b[0m\n\u001b[1;32m-> 1213\u001b[1;33m                     \u001b[0mouts\u001b[0m \u001b[1;33m=\u001b[0m \u001b[0mf\u001b[0m\u001b[1;33m(\u001b[0m\u001b[0mins_batch\u001b[0m\u001b[1;33m)\u001b[0m\u001b[1;33m\u001b[0m\u001b[1;33m\u001b[0m\u001b[0m\n\u001b[0m\u001b[0;32m   1214\u001b[0m                     \u001b[1;32mif\u001b[0m \u001b[1;32mnot\u001b[0m \u001b[0misinstance\u001b[0m\u001b[1;33m(\u001b[0m\u001b[0mouts\u001b[0m\u001b[1;33m,\u001b[0m \u001b[0mlist\u001b[0m\u001b[1;33m)\u001b[0m\u001b[1;33m:\u001b[0m\u001b[1;33m\u001b[0m\u001b[1;33m\u001b[0m\u001b[0m\n\u001b[0;32m   1215\u001b[0m                         \u001b[0mouts\u001b[0m \u001b[1;33m=\u001b[0m \u001b[1;33m[\u001b[0m\u001b[0mouts\u001b[0m\u001b[1;33m]\u001b[0m\u001b[1;33m\u001b[0m\u001b[1;33m\u001b[0m\u001b[0m\n",
      "\u001b[1;32m~\\AppData\\Local\\conda\\conda\\envs\\magiclearning\\lib\\site-packages\\keras\\backend\\tensorflow_backend.py\u001b[0m in \u001b[0;36m__call__\u001b[1;34m(self, inputs)\u001b[0m\n\u001b[0;32m   2330\u001b[0m         updated = session.run(self.outputs + [self.updates_op],\n\u001b[0;32m   2331\u001b[0m                               \u001b[0mfeed_dict\u001b[0m\u001b[1;33m=\u001b[0m\u001b[0mfeed_dict\u001b[0m\u001b[1;33m,\u001b[0m\u001b[1;33m\u001b[0m\u001b[1;33m\u001b[0m\u001b[0m\n\u001b[1;32m-> 2332\u001b[1;33m                               **self.session_kwargs)\n\u001b[0m\u001b[0;32m   2333\u001b[0m         \u001b[1;32mreturn\u001b[0m \u001b[0mupdated\u001b[0m\u001b[1;33m[\u001b[0m\u001b[1;33m:\u001b[0m\u001b[0mlen\u001b[0m\u001b[1;33m(\u001b[0m\u001b[0mself\u001b[0m\u001b[1;33m.\u001b[0m\u001b[0moutputs\u001b[0m\u001b[1;33m)\u001b[0m\u001b[1;33m]\u001b[0m\u001b[1;33m\u001b[0m\u001b[1;33m\u001b[0m\u001b[0m\n\u001b[0;32m   2334\u001b[0m \u001b[1;33m\u001b[0m\u001b[0m\n",
      "\u001b[1;32m~\\AppData\\Local\\conda\\conda\\envs\\magiclearning\\lib\\site-packages\\tensorflow\\python\\client\\session.py\u001b[0m in \u001b[0;36mrun\u001b[1;34m(self, fetches, feed_dict, options, run_metadata)\u001b[0m\n\u001b[0;32m    776\u001b[0m     \u001b[1;32mtry\u001b[0m\u001b[1;33m:\u001b[0m\u001b[1;33m\u001b[0m\u001b[1;33m\u001b[0m\u001b[0m\n\u001b[0;32m    777\u001b[0m       result = self._run(None, fetches, feed_dict, options_ptr,\n\u001b[1;32m--> 778\u001b[1;33m                          run_metadata_ptr)\n\u001b[0m\u001b[0;32m    779\u001b[0m       \u001b[1;32mif\u001b[0m \u001b[0mrun_metadata\u001b[0m\u001b[1;33m:\u001b[0m\u001b[1;33m\u001b[0m\u001b[1;33m\u001b[0m\u001b[0m\n\u001b[0;32m    780\u001b[0m         \u001b[0mproto_data\u001b[0m \u001b[1;33m=\u001b[0m \u001b[0mtf_session\u001b[0m\u001b[1;33m.\u001b[0m\u001b[0mTF_GetBuffer\u001b[0m\u001b[1;33m(\u001b[0m\u001b[0mrun_metadata_ptr\u001b[0m\u001b[1;33m)\u001b[0m\u001b[1;33m\u001b[0m\u001b[1;33m\u001b[0m\u001b[0m\n",
      "\u001b[1;32m~\\AppData\\Local\\conda\\conda\\envs\\magiclearning\\lib\\site-packages\\tensorflow\\python\\client\\session.py\u001b[0m in \u001b[0;36m_run\u001b[1;34m(self, handle, fetches, feed_dict, options, run_metadata)\u001b[0m\n\u001b[0;32m    980\u001b[0m     \u001b[1;32mif\u001b[0m \u001b[0mfinal_fetches\u001b[0m \u001b[1;32mor\u001b[0m \u001b[0mfinal_targets\u001b[0m\u001b[1;33m:\u001b[0m\u001b[1;33m\u001b[0m\u001b[1;33m\u001b[0m\u001b[0m\n\u001b[0;32m    981\u001b[0m       results = self._do_run(handle, final_targets, final_fetches,\n\u001b[1;32m--> 982\u001b[1;33m                              feed_dict_string, options, run_metadata)\n\u001b[0m\u001b[0;32m    983\u001b[0m     \u001b[1;32melse\u001b[0m\u001b[1;33m:\u001b[0m\u001b[1;33m\u001b[0m\u001b[1;33m\u001b[0m\u001b[0m\n\u001b[0;32m    984\u001b[0m       \u001b[0mresults\u001b[0m \u001b[1;33m=\u001b[0m \u001b[1;33m[\u001b[0m\u001b[1;33m]\u001b[0m\u001b[1;33m\u001b[0m\u001b[1;33m\u001b[0m\u001b[0m\n",
      "\u001b[1;32m~\\AppData\\Local\\conda\\conda\\envs\\magiclearning\\lib\\site-packages\\tensorflow\\python\\client\\session.py\u001b[0m in \u001b[0;36m_do_run\u001b[1;34m(self, handle, target_list, fetch_list, feed_dict, options, run_metadata)\u001b[0m\n\u001b[0;32m   1030\u001b[0m     \u001b[1;32mif\u001b[0m \u001b[0mhandle\u001b[0m \u001b[1;32mis\u001b[0m \u001b[1;32mNone\u001b[0m\u001b[1;33m:\u001b[0m\u001b[1;33m\u001b[0m\u001b[1;33m\u001b[0m\u001b[0m\n\u001b[0;32m   1031\u001b[0m       return self._do_call(_run_fn, self._session, feed_dict, fetch_list,\n\u001b[1;32m-> 1032\u001b[1;33m                            target_list, options, run_metadata)\n\u001b[0m\u001b[0;32m   1033\u001b[0m     \u001b[1;32melse\u001b[0m\u001b[1;33m:\u001b[0m\u001b[1;33m\u001b[0m\u001b[1;33m\u001b[0m\u001b[0m\n\u001b[0;32m   1034\u001b[0m       return self._do_call(_prun_fn, self._session, handle, feed_dict,\n",
      "\u001b[1;32m~\\AppData\\Local\\conda\\conda\\envs\\magiclearning\\lib\\site-packages\\tensorflow\\python\\client\\session.py\u001b[0m in \u001b[0;36m_do_call\u001b[1;34m(self, fn, *args)\u001b[0m\n\u001b[0;32m   1037\u001b[0m   \u001b[1;32mdef\u001b[0m \u001b[0m_do_call\u001b[0m\u001b[1;33m(\u001b[0m\u001b[0mself\u001b[0m\u001b[1;33m,\u001b[0m \u001b[0mfn\u001b[0m\u001b[1;33m,\u001b[0m \u001b[1;33m*\u001b[0m\u001b[0margs\u001b[0m\u001b[1;33m)\u001b[0m\u001b[1;33m:\u001b[0m\u001b[1;33m\u001b[0m\u001b[1;33m\u001b[0m\u001b[0m\n\u001b[0;32m   1038\u001b[0m     \u001b[1;32mtry\u001b[0m\u001b[1;33m:\u001b[0m\u001b[1;33m\u001b[0m\u001b[1;33m\u001b[0m\u001b[0m\n\u001b[1;32m-> 1039\u001b[1;33m       \u001b[1;32mreturn\u001b[0m \u001b[0mfn\u001b[0m\u001b[1;33m(\u001b[0m\u001b[1;33m*\u001b[0m\u001b[0margs\u001b[0m\u001b[1;33m)\u001b[0m\u001b[1;33m\u001b[0m\u001b[1;33m\u001b[0m\u001b[0m\n\u001b[0m\u001b[0;32m   1040\u001b[0m     \u001b[1;32mexcept\u001b[0m \u001b[0merrors\u001b[0m\u001b[1;33m.\u001b[0m\u001b[0mOpError\u001b[0m \u001b[1;32mas\u001b[0m \u001b[0me\u001b[0m\u001b[1;33m:\u001b[0m\u001b[1;33m\u001b[0m\u001b[1;33m\u001b[0m\u001b[0m\n\u001b[0;32m   1041\u001b[0m       \u001b[0mmessage\u001b[0m \u001b[1;33m=\u001b[0m \u001b[0mcompat\u001b[0m\u001b[1;33m.\u001b[0m\u001b[0mas_text\u001b[0m\u001b[1;33m(\u001b[0m\u001b[0me\u001b[0m\u001b[1;33m.\u001b[0m\u001b[0mmessage\u001b[0m\u001b[1;33m)\u001b[0m\u001b[1;33m\u001b[0m\u001b[1;33m\u001b[0m\u001b[0m\n",
      "\u001b[1;32m~\\AppData\\Local\\conda\\conda\\envs\\magiclearning\\lib\\site-packages\\tensorflow\\python\\client\\session.py\u001b[0m in \u001b[0;36m_run_fn\u001b[1;34m(session, feed_dict, fetch_list, target_list, options, run_metadata)\u001b[0m\n\u001b[0;32m   1019\u001b[0m         return tf_session.TF_Run(session, options,\n\u001b[0;32m   1020\u001b[0m                                  \u001b[0mfeed_dict\u001b[0m\u001b[1;33m,\u001b[0m \u001b[0mfetch_list\u001b[0m\u001b[1;33m,\u001b[0m \u001b[0mtarget_list\u001b[0m\u001b[1;33m,\u001b[0m\u001b[1;33m\u001b[0m\u001b[1;33m\u001b[0m\u001b[0m\n\u001b[1;32m-> 1021\u001b[1;33m                                  status, run_metadata)\n\u001b[0m\u001b[0;32m   1022\u001b[0m \u001b[1;33m\u001b[0m\u001b[0m\n\u001b[0;32m   1023\u001b[0m     \u001b[1;32mdef\u001b[0m \u001b[0m_prun_fn\u001b[0m\u001b[1;33m(\u001b[0m\u001b[0msession\u001b[0m\u001b[1;33m,\u001b[0m \u001b[0mhandle\u001b[0m\u001b[1;33m,\u001b[0m \u001b[0mfeed_dict\u001b[0m\u001b[1;33m,\u001b[0m \u001b[0mfetch_list\u001b[0m\u001b[1;33m)\u001b[0m\u001b[1;33m:\u001b[0m\u001b[1;33m\u001b[0m\u001b[1;33m\u001b[0m\u001b[0m\n",
      "\u001b[1;31mKeyboardInterrupt\u001b[0m: "
     ]
    }
   ],
   "source": [
    "model.fit(Xsmall, ysmall, epochs=150, batch_size=128, validation_split=0.01)"
   ]
  },
  {
   "cell_type": "code",
   "execution_count": 3,
   "metadata": {},
   "outputs": [
    {
     "name": "stdout",
     "output_type": "stream",
     "text": [
      "9000\n",
      "9000\n",
      "9000\n",
      "9000\n",
      "9000\n",
      "9000\n",
      "9000\n"
     ]
    }
   ],
   "source": [
    "def createImageData(images, trainPercentage):\n",
    "    categories = len(images)\n",
    "\n",
    "    imgList = []\n",
    "    vectors = []\n",
    "\n",
    "    testImgList = []\n",
    "    testVectors = []\n",
    "\n",
    "    #data for original image\n",
    "    for c in range(categories):\n",
    "        numImages = images[c].shape[0]\n",
    "        print(numImages)\n",
    "        numTrain = int(numImages * trainPercentage)\n",
    "        imgList.append(images[c][:numTrain])\n",
    "\n",
    "        featureVector = np.zeros((numTrain, categories))\n",
    "        featureVector[:, c] = 1\n",
    "#         vectors.append(featureVector)\n",
    "        vectors.append(images[0][:numTrain])\n",
    "    \n",
    "        #testing data\n",
    "        testImgList.append(images[c][numTrain:])\n",
    "\n",
    "        featureVector = np.zeros((numImages - numTrain, categories))\n",
    "        featureVector[:, c] = 1\n",
    "#         testVectors.append(featureVector)\n",
    "        testVectors.append(images[0][numTrain:])\n",
    "\n",
    "\n",
    "    X = np.vstack(imgList)\n",
    "    y = np.vstack(vectors)\n",
    "\n",
    "    Xtest = np.vstack(testImgList)\n",
    "    ytest = np.vstack(testVectors)\n",
    "\n",
    "    X, y = shuffle(X, y, random_state=0)\n",
    "    Xtest, ytest = shuffle(Xtest, ytest, random_state=0)\n",
    "    return X, y, Xtest, ytest\n",
    "X, y, Xtest, ytest = createImageData([origImg, clarendon, gingham, juno, lark, gotham, reyes], .9)\n",
    "# imX, imy, imXtest, imytest = createImageData([origImg, clarendon], .9)"
   ]
  },
  {
   "cell_type": "code",
   "execution_count": 8,
   "metadata": {},
   "outputs": [
    {
     "data": {
      "text/plain": [
       "(56700, 128, 128, 3)"
      ]
     },
     "execution_count": 8,
     "metadata": {},
     "output_type": "execute_result"
    }
   ],
   "source": []
  },
  {
   "cell_type": "code",
   "execution_count": null,
   "metadata": {},
   "outputs": [],
   "source": [
    "def divideImages(X, y):\n",
    "    imXsmall = []\n",
    "    imysmall = []\n",
    "    for i in range(X.shape[0]):\n",
    "        l = 0\n",
    "        for j in range(0, X.shape[1], X.shape[1] // 4):\n",
    "            for k in range(0, X.shape[1], X.shape[1] // 4):\n",
    "                blockX = X[i, j : j + 32, k : k + 32]\n",
    "                blocky = y[i, j : j + 32, k : k + 32]\n",
    "                imXsmall.append(blockX)\n",
    "                imysmall.append(blocky)\n",
    "                l += 1\n",
    "    imXsmall = np.array(imXsmall)\n",
    "    imysmall = np.array(imysmall)\n",
    "    return imXsmall, imysmall\n",
    "imXsmall, imysmall = divideImages(X, y)\n",
    "imXsmall, imysmall = shuffle(imXsmall, imysmall, random_state=0)"
   ]
  },
  {
   "cell_type": "code",
   "execution_count": 107,
   "metadata": {},
   "outputs": [
    {
     "data": {
      "image/png": "[encoded data removed]",
      "text/plain": [
       "<Figure size 432x288 with 1 Axes>"
      ]
     },
     "metadata": {
      "needs_background": "light"
     },
     "output_type": "display_data"
    },
    {
     "data": {
      "image/png": "[encoded data removed]",
      "text/plain": [
       "<Figure size 432x288 with 1 Axes>"
      ]
     },
     "metadata": {
      "needs_background": "light"
     },
     "output_type": "display_data"
    },
    {
     "name": "stdout",
     "output_type": "stream",
     "text": [
      "279300\n",
      "[[243 244 247 ...   6  11  22]\n",
      " [249 246 244 ...  21  22  27]\n",
      " [ 11  10  10 ...  27  25  24]\n",
      " ...\n",
      " [ 30  24  18 ...  19  20  19]\n",
      " [  5   7  11 ...  21  21  20]\n",
      " [ 11  13  16 ...  21  21  20]]\n"
     ]
    }
   ],
   "source": [
    "imsmallResidual = imysmall - imXsmall\n",
    "i = 442\n",
    "plt.imshow(imXsmall[i])\n",
    "plt.show()\n",
    "plt.imshow(imysmall[i])\n",
    "plt.show()\n",
    "print(np.sum(np.abs(imXsmall[i] - imysmall[i])))\n",
    "print(imsmallResidual[i][:,:, 0])"
   ]
  },
  {
   "cell_type": "code",
   "execution_count": 19,
   "metadata": {},
   "outputs": [],
   "source": [
    "import keras\n",
    "from keras.models import Sequential\n",
    "from keras.layers import Dense, Dropout, Flatten\n",
    "from keras.layers import Conv2D, MaxPooling2D\n",
    "from keras.layers import LeakyReLU\n",
    "import numpy as np\n",
    "\n",
    "model = Sequential()\n",
    "model.add(Conv2D(6, (3, 3), input_shape=(32, 32, 3), padding='same'))\n",
    "model.add(LeakyReLU(alpha=0.3))\n",
    "model.add(Conv2D(6, (3, 3), padding='same'))\n",
    "model.add(LeakyReLU(alpha=0.3))\n",
    "model.add(Dense(128))\n",
    "model.add(LeakyReLU(alpha=0.3))\n",
    "model.add(Dense(256))\n",
    "model.add(LeakyReLU(alpha=0.3))\n",
    "model.add(Conv2D(3, (3, 3), padding='same'))\n",
    "# model.add(MaxPooling2D(pool_size=3, strides =2))\n",
    "# model.add(Flatten())\n",
    "# model.add(Dense(128))\n",
    "# model.add(LeakyReLU(alpha=0.3))\n",
    "# model.add(Dense(256))\n",
    "# model.add(LeakyReLU(alpha=0.3))\n",
    "# model.add(Conv2DTranspose(32, (3, 3), strides = 2))\n",
    "# model.add(Conv2D(32, (3, 3), input_shape=(32, 32, 3), strides=2))\n",
    "# model.add(Dropout(0.5))\n",
    "#model.add(Dense(2, activation='softmax'))\n",
    "model.compile(loss='mean_squared_error', optimizer='adam', metrics=['mae'])"
   ]
  },
  {
   "cell_type": "code",
   "execution_count": 24,
   "metadata": {},
   "outputs": [
    {
     "name": "stdout",
     "output_type": "stream",
     "text": [
      "Train on 898128 samples, validate on 9072 samples\n",
      "Epoch 1/1\n",
      "898128/898128 [==============================] - 929s 1ms/step - loss: 417.3434 - mean_absolute_error: 15.8734 - val_loss: 456.5389 - val_mean_absolute_error: 17.5183\n"
     ]
    },
    {
     "data": {
      "text/plain": [
       "<keras.callbacks.History at 0x1cdb7909518>"
      ]
     },
     "execution_count": 24,
     "metadata": {},
     "output_type": "execute_result"
    }
   ],
   "source": [
    "model.fit(imXsmall, imysmall, epochs=1, batch_size=256, validation_split=0.01)"
   ]
  },
  {
   "cell_type": "code",
   "execution_count": 13,
   "metadata": {},
   "outputs": [
    {
     "data": {
      "text/plain": [
       "77.29099801558596"
      ]
     },
     "execution_count": 13,
     "metadata": {},
     "output_type": "execute_result"
    }
   ],
   "source": [
    "np.mean(np.abs(imXsmall - imysmall))"
   ]
  },
  {
   "cell_type": "code",
   "execution_count": 27,
   "metadata": {},
   "outputs": [],
   "source": [
    "imXtestsmall, imytestsmall = divideImages(Xtest, ytest)\n",
    "#imXtestsmall, imytestsmall = shuffle(imXtestsmall, imytestsmall, random_state=0)"
   ]
  },
  {
   "cell_type": "code",
   "execution_count": 25,
   "metadata": {},
   "outputs": [
    {
     "data": {
      "text/plain": [
       "14.9010105"
      ]
     },
     "execution_count": 25,
     "metadata": {},
     "output_type": "execute_result"
    }
   ],
   "source": [
    "predict = model.predict(imXtestsmall)\n",
    "np.mean(np.abs(predict - imytestsmall))"
   ]
  },
  {
   "cell_type": "code",
   "execution_count": 26,
   "metadata": {},
   "outputs": [],
   "source": [
    "from keras.models import load_model\n",
    "model.save('EndToEndNN1.h5')"
   ]
  },
  {
   "cell_type": "code",
   "execution_count": 16,
   "metadata": {},
   "outputs": [
    {
     "data": {
      "image/png": "[encoded data removed]",
      "text/plain": [
       "<Figure size 432x288 with 1 Axes>"
      ]
     },
     "metadata": {
      "needs_background": "light"
     },
     "output_type": "display_data"
    },
    {
     "data": {
      "image/png": "[encoded data removed]",
      "text/plain": [
       "<Figure size 432x288 with 1 Axes>"
      ]
     },
     "metadata": {
      "needs_background": "light"
     },
     "output_type": "display_data"
    },
    {
     "name": "stdout",
     "output_type": "stream",
     "text": [
      "90.91796875\n"
     ]
    }
   ],
   "source": [
    "i = 442\n",
    "plt.imshow(imXsmall[i])\n",
    "plt.show()\n",
    "plt.imshow(imysmall[i])\n",
    "plt.show()\n",
    "print(np.mean(np.abs(imXsmall[i] - imysmall[i])))"
   ]
  },
  {
   "cell_type": "code",
   "execution_count": 99,
   "metadata": {},
   "outputs": [
    {
     "data": {
      "image/png": "[encoded data removed]",
      "text/plain": [
       "<Figure size 432x288 with 1 Axes>"
      ]
     },
     "metadata": {
      "needs_background": "light"
     },
     "output_type": "display_data"
    },
    {
     "data": {
      "image/png": "[encoded data removed]",
      "text/plain": [
       "<Figure size 432x288 with 1 Axes>"
      ]
     },
     "metadata": {
      "needs_background": "light"
     },
     "output_type": "display_data"
    },
    {
     "name": "stdout",
     "output_type": "stream",
     "text": [
      "(16, 32, 32, 3)\n"
     ]
    },
    {
     "data": {
      "image/png": "[encoded data removed]",
      "text/plain": [
       "<Figure size 432x288 with 1 Axes>"
      ]
     },
     "metadata": {
      "needs_background": "light"
     },
     "output_type": "display_data"
    },
    {
     "name": "stdout",
     "output_type": "stream",
     "text": [
      "15.515706380208334\n"
     ]
    }
   ],
   "source": [
    "k = 5500\n",
    "im = []\n",
    "for i in range(k * 4, k * 4 + 4):\n",
    "    line = np.hstack(imytestsmall[i * 4 : i * 4 + 4])\n",
    "    im.append(line)\n",
    "im = np.vstack(im)\n",
    "\n",
    "plt.imshow(im)\n",
    "plt.show()\n",
    "\n",
    "im = []\n",
    "for i in range(k * 4, k * 4 + 4):\n",
    "    line = np.hstack(imXtestsmall[i * 4 : i * 4 + 4])\n",
    "    im.append(line)\n",
    "im = np.vstack(im)\n",
    "\n",
    "plt.imshow(im)\n",
    "plt.show()\n",
    "\n",
    "\n",
    "imPredSmall = model.predict(imXtestsmall[k * 16 : k * 16 + 16])\n",
    "imPredSmall = imPredSmall.astype('int')\n",
    "print(imPredSmall.shape)\n",
    "im = []\n",
    "for i in range(4):\n",
    "    line = np.hstack(imPredSmall[i * 4 : i * 4 + 4])\n",
    "    im.append(line)\n",
    "im = np.vstack(im)\n",
    "\n",
    "plt.imshow(im)\n",
    "plt.show()\n",
    "\n",
    "print(np.mean(np.abs(imPredSmall - imytestsmall[k * 16 : k * 16 + 16])))"
   ]
  },
  {
   "cell_type": "code",
   "execution_count": 64,
   "metadata": {},
   "outputs": [
    {
     "data": {
      "text/plain": [
       "array([[[[ 10,   5,  12],\n",
       "         [  0,   3,  15],\n",
       "         [  0,   6,  17],\n",
       "         ...,\n",
       "         [  3,   4,   9],\n",
       "         [  0,   6,   9],\n",
       "         [  0,  10,  11]],\n",
       "\n",
       "        [[ 17,  12,  19],\n",
       "         [  3,   9,  21],\n",
       "         [  0,  13,  24],\n",
       "         ...,\n",
       "         [  0,   5,   5],\n",
       "         [  0,   8,   3],\n",
       "         [  0,  11,   4]],\n",
       "\n",
       "        [[  0,   0,   7],\n",
       "         [  0,   4,  16],\n",
       "         [  4,  26,  39],\n",
       "         ...,\n",
       "         [  1,  27,  16],\n",
       "         [  0,  30,  16],\n",
       "         [  0,  31,  15]],\n",
       "\n",
       "        ...,\n",
       "\n",
       "        [[  0,   4,   5],\n",
       "         [  7,  25,  27],\n",
       "         [ 61,  90,  94],\n",
       "         ...,\n",
       "         [ 20,  20,  20],\n",
       "         [  0,   0,   4],\n",
       "         [  0,   1,   6]],\n",
       "\n",
       "        [[  0,   3,   4],\n",
       "         [  7,  25,  27],\n",
       "         [ 62,  91,  95],\n",
       "         ...,\n",
       "         [ 21,  21,  21],\n",
       "         [  1,   0,   6],\n",
       "         [  0,   1,   6]],\n",
       "\n",
       "        [[  0,   3,   4],\n",
       "         [  7,  25,  27],\n",
       "         [ 62,  91,  95],\n",
       "         ...,\n",
       "         [ 23,  23,  23],\n",
       "         [  0,   1,   6],\n",
       "         [  0,   1,   8]]],\n",
       "\n",
       "\n",
       "       [[[  2,   0,  11],\n",
       "         [  5,   0,   9],\n",
       "         [  9,   0,  10],\n",
       "         ...,\n",
       "         [  2,   1,   9],\n",
       "         [  2,   1,   9],\n",
       "         [  1,   0,   8]],\n",
       "\n",
       "        [[  0,   5,   7],\n",
       "         [  0,   5,   5],\n",
       "         [  0,   4,   5],\n",
       "         ...,\n",
       "         [  0,   6,   5],\n",
       "         [  0,   6,   5],\n",
       "         [  0,   6,   5]],\n",
       "\n",
       "        [[  0,  27,  16],\n",
       "         [  0,  27,  16],\n",
       "         [  0,  28,  17],\n",
       "         ...,\n",
       "         [  0,  26,  15],\n",
       "         [  0,  26,  15],\n",
       "         [  0,  26,  15]],\n",
       "\n",
       "        ...,\n",
       "\n",
       "        [[  2,   0,   3],\n",
       "         [  0,   1,   6],\n",
       "         [  0,   1,   6],\n",
       "         ...,\n",
       "         [244, 155, 123],\n",
       "         [255, 205, 156],\n",
       "         [254, 207, 153]],\n",
       "\n",
       "        [[  2,   0,   5],\n",
       "         [  0,   1,   6],\n",
       "         [  0,   1,   6],\n",
       "         ...,\n",
       "         [251, 120, 100],\n",
       "         [255, 167, 139],\n",
       "         [248, 174, 145]],\n",
       "\n",
       "        [[  1,   0,   5],\n",
       "         [  0,   1,   6],\n",
       "         [  0,   1,   6],\n",
       "         ...,\n",
       "         [255,  93,  78],\n",
       "         [243, 120, 104],\n",
       "         [187,  97,  86]]],\n",
       "\n",
       "\n",
       "       [[[  5,   0,   9],\n",
       "         [  4,   0,   8],\n",
       "         [  4,   0,   8],\n",
       "         ...,\n",
       "         [  8,   2,  16],\n",
       "         [  9,   2,  18],\n",
       "         [  9,   2,  18]],\n",
       "\n",
       "        [[  0,   4,   8],\n",
       "         [  0,   4,   8],\n",
       "         [  0,   4,   8],\n",
       "         ...,\n",
       "         [  0,   5,  11],\n",
       "         [  0,   7,  12],\n",
       "         [  0,   7,  12]],\n",
       "\n",
       "        [[  0,  22,  20],\n",
       "         [  0,  22,  20],\n",
       "         [  0,  21,  19],\n",
       "         ...,\n",
       "         [  0,  25,  19],\n",
       "         [  0,  26,  20],\n",
       "         [  0,  26,  20]],\n",
       "\n",
       "        ...,\n",
       "\n",
       "        [[250, 195, 138],\n",
       "         [250, 204, 145],\n",
       "         [243, 217, 156],\n",
       "         ...,\n",
       "         [192, 150, 112],\n",
       "         [171, 138,  97],\n",
       "         [163, 134,  92]],\n",
       "\n",
       "        [[208, 188, 135],\n",
       "         [200, 194, 142],\n",
       "         [186, 202, 153],\n",
       "         ...,\n",
       "         [161, 125,  89],\n",
       "         [134, 111,  70],\n",
       "         [143, 126,  82]],\n",
       "\n",
       "        [[ 86, 102,  57],\n",
       "         [ 66, 103,  62],\n",
       "         [ 45, 102,  69],\n",
       "         ...,\n",
       "         [137, 114,  72],\n",
       "         [101,  98,  55],\n",
       "         [118, 127,  82]]],\n",
       "\n",
       "\n",
       "       ...,\n",
       "\n",
       "\n",
       "       [[[200, 108,  97],\n",
       "         [192,  99,  84],\n",
       "         [174,  75,  56],\n",
       "         ...,\n",
       "         [ 21,  54,  73],\n",
       "         [ 25,  57,  78],\n",
       "         [ 32,  62,  86]],\n",
       "\n",
       "        [[214, 111, 104],\n",
       "         [196,  98,  85],\n",
       "         [189,  94,  74],\n",
       "         ...,\n",
       "         [ 59,  91, 106],\n",
       "         [ 60,  89, 105],\n",
       "         [ 59,  88, 106]],\n",
       "\n",
       "        [[227, 116, 109],\n",
       "         [194,  93,  81],\n",
       "         [203, 112,  91],\n",
       "         ...,\n",
       "         [ 74, 104, 115],\n",
       "         [ 73, 103, 114],\n",
       "         [ 67,  97, 107]],\n",
       "\n",
       "        ...,\n",
       "\n",
       "        [[  0,   5,  11],\n",
       "         [  0,   9,  10],\n",
       "         [  0,  12,  10],\n",
       "         ...,\n",
       "         [  0,  21,  18],\n",
       "         [  0,  21,  18],\n",
       "         [  0,  21,  18]],\n",
       "\n",
       "        [[  0,   4,   2],\n",
       "         [  0,   2,   0],\n",
       "         [  0,   3,   6],\n",
       "         ...,\n",
       "         [  0,  10,   5],\n",
       "         [  0,  10,   5],\n",
       "         [  0,  10,   5]],\n",
       "\n",
       "        [[  9,   5,   0],\n",
       "         [  5,   0,   0],\n",
       "         [  6,   0,   2],\n",
       "         ...,\n",
       "         [  3,  14,  10],\n",
       "         [  3,  14,   8],\n",
       "         [  2,  15,   8]]],\n",
       "\n",
       "\n",
       "       [[[ 50,  66,  92],\n",
       "         [ 34,  52,  76],\n",
       "         [ 42,  60,  82],\n",
       "         ...,\n",
       "         [187, 102,  81],\n",
       "         [152,  90,  77],\n",
       "         [136,  87,  83]],\n",
       "\n",
       "        [[ 55,  76,  95],\n",
       "         [ 55,  78,  94],\n",
       "         [ 67,  90, 106],\n",
       "         ...,\n",
       "         [169,  83,  66],\n",
       "         [133,  65,  62],\n",
       "         [126,  66,  74]],\n",
       "\n",
       "        [[ 72,  98, 111],\n",
       "         [ 78, 106, 118],\n",
       "         [ 81, 109, 123],\n",
       "         ...,\n",
       "         [196, 119, 109],\n",
       "         [151,  86,  90],\n",
       "         [129,  62,  80]],\n",
       "\n",
       "        ...,\n",
       "\n",
       "        [[  0,  19,  16],\n",
       "         [  0,  20,  18],\n",
       "         [  0,  19,  20],\n",
       "         ...,\n",
       "         [  2,  16,  17],\n",
       "         [  0,  10,   8],\n",
       "         [  0,  19,  10]],\n",
       "\n",
       "        [[  0,   8,   1],\n",
       "         [  0,   9,   2],\n",
       "         [  0,   9,   6],\n",
       "         ...,\n",
       "         [  1,   3,   0],\n",
       "         [  0,   3,   0],\n",
       "         [  0,   5,   0]],\n",
       "\n",
       "        [[  2,  13,   5],\n",
       "         [  2,  13,   7],\n",
       "         [  3,  14,  10],\n",
       "         ...,\n",
       "         [  2,   2,   2],\n",
       "         [  0,   5,   1],\n",
       "         [  0,   2,   0]]],\n",
       "\n",
       "\n",
       "       [[[206, 107,  86],\n",
       "         [240, 151, 121],\n",
       "         [244, 161, 131],\n",
       "         ...,\n",
       "         [104, 103, 101],\n",
       "         [  0,  10,  11],\n",
       "         [  0,   3,   2]],\n",
       "\n",
       "        [[226, 125, 105],\n",
       "         [247, 156, 127],\n",
       "         [247, 166, 136],\n",
       "         ...,\n",
       "         [ 98,  90,  87],\n",
       "         [  0,   2,   4],\n",
       "         [  0,   4,   5]],\n",
       "\n",
       "        [[241, 136, 117],\n",
       "         [243, 154, 124],\n",
       "         [245, 166, 135],\n",
       "         ...,\n",
       "         [117, 104,  96],\n",
       "         [  0,   3,   3],\n",
       "         [  0,   4,   6]],\n",
       "\n",
       "        ...,\n",
       "\n",
       "        [[  0,  15,   6],\n",
       "         [  0,  17,  13],\n",
       "         [  0,   9,   8],\n",
       "         ...,\n",
       "         [  1,  25,  37],\n",
       "         [  0,   7,  24],\n",
       "         [  0,   0,  19]],\n",
       "\n",
       "        [[  0,   2,   2],\n",
       "         [  0,   1,   0],\n",
       "         [  0,   1,   0],\n",
       "         ...,\n",
       "         [  0,   2,  12],\n",
       "         [  0,   0,  11],\n",
       "         [  0,   4,  13]],\n",
       "\n",
       "        [[  4,   2,  13],\n",
       "         [  0,   2,   5],\n",
       "         [  0,   2,   3],\n",
       "         ...,\n",
       "         [  9,   0,   0],\n",
       "         [  6,   0,   0],\n",
       "         [  5,   6,   1]]]], dtype=uint8)"
      ]
     },
     "execution_count": 64,
     "metadata": {},
     "output_type": "execute_result"
    }
   ],
   "source": [
    "imXtestsmall[k * 16 : k * 16 + 16]"
   ]
  },
  {
   "cell_type": "code",
   "execution_count": 36,
   "metadata": {},
   "outputs": [
    {
     "name": "stdout",
     "output_type": "stream",
     "text": [
      "[[ 89  35  11]\n",
      " [ 89  35  11]\n",
      " [ 89  35  11]\n",
      " [ 90  36  12]\n",
      " [ 90  36  12]\n",
      " [ 90  36  10]\n",
      " [ 91  37  11]\n",
      " [ 91  37  11]\n",
      " [ 91  37   9]\n",
      " [ 91  37   9]\n",
      " [ 92  38  10]\n",
      " [ 93  39  11]\n",
      " [ 95  42  11]\n",
      " [ 96  43  12]\n",
      " [ 97  44  13]\n",
      " [ 97  44  13]\n",
      " [103  39  12]\n",
      " [103  39  12]\n",
      " [101  40  12]\n",
      " [102  41  13]\n",
      " [102  41  13]\n",
      " [102  42  14]\n",
      " [102  42  14]\n",
      " [101  44  15]\n",
      " [102  45  16]\n",
      " [100  45  15]\n",
      " [100  45  15]\n",
      " [ 99  46  15]\n",
      " [100  47  16]\n",
      " [101  48  17]\n",
      " [100  49  18]\n",
      " [101  50  19]]\n"
     ]
    }
   ],
   "source": [
    "im = []\n",
    "for i in range(4):\n",
    "    line = np.hstack(imPredSmall[i * 4 : i * 4 + 4])\n",
    "    im.append(line)\n",
    "im = np.vstack(im)\n",
    "\n",
    "plt.imshow(im)"
   ]
  },
  {
   "cell_type": "code",
   "execution_count": 44,
   "metadata": {},
   "outputs": [
    {
     "name": "stdout",
     "output_type": "stream",
     "text": [
      "[[57.897762  25.009315  13.612168 ]\n",
      " [66.08729   26.907211   8.88067  ]\n",
      " [69.00389   27.758347  11.015296 ]\n",
      " [70.15055   28.770735  10.605076 ]\n",
      " [70.53425   29.291563  10.464784 ]\n",
      " [70.68917   29.456049  10.257028 ]\n",
      " [71.94177   30.231426  10.917687 ]\n",
      " [72.27056   30.419395  10.4550085]\n",
      " [71.51132   29.563093   9.082475 ]\n",
      " [72.15798   29.843353   9.025834 ]\n",
      " [73.72932   31.031673   9.546621 ]\n",
      " [75.428246  32.41693   10.4217205]\n",
      " [77.03373   33.8509    11.353556 ]\n",
      " [77.970406  34.416065  11.671332 ]\n",
      " [79.39225   34.206852  12.282556 ]\n",
      " [82.69697   34.62863   12.094486 ]\n",
      " [84.53572   33.010067  11.073839 ]\n",
      " [84.30469   30.784533  10.619334 ]\n",
      " [84.00276   30.791286  10.564947 ]\n",
      " [83.7775    30.926058  10.551137 ]\n",
      " [84.06975   31.615284  11.109563 ]\n",
      " [84.41944   32.60601   11.861271 ]\n",
      " [84.59565   33.896187  12.461048 ]\n",
      " [84.34593   34.988556  12.496444 ]\n",
      " [83.306046  35.170532  11.713701 ]\n",
      " [83.86399   36.627613  12.806653 ]\n",
      " [82.845314  36.552315  12.533135 ]\n",
      " [82.28659   37.129692  12.605812 ]\n",
      " [82.22781   37.799706  13.267915 ]\n",
      " [82.42144   38.76429   15.220338 ]\n",
      " [74.96476   36.92839   16.95446  ]\n",
      " [65.21976   37.46312   20.149223 ]]\n"
     ]
    }
   ],
   "source": [
    "print(imPredSmall[0][0])"
   ]
  },
  {
   "cell_type": "code",
   "execution_count": 45,
   "metadata": {},
   "outputs": [
    {
     "name": "stdout",
     "output_type": "stream",
     "text": [
      "[[ 89  35  11]\n",
      " [ 89  35  11]\n",
      " [ 89  35  11]\n",
      " [ 90  36  12]\n",
      " [ 90  36  12]\n",
      " [ 90  36  10]\n",
      " [ 91  37  11]\n",
      " [ 91  37  11]\n",
      " [ 91  37   9]\n",
      " [ 91  37   9]\n",
      " [ 92  38  10]\n",
      " [ 93  39  11]\n",
      " [ 95  42  11]\n",
      " [ 96  43  12]\n",
      " [ 97  44  13]\n",
      " [ 97  44  13]\n",
      " [103  39  12]\n",
      " [103  39  12]\n",
      " [101  40  12]\n",
      " [102  41  13]\n",
      " [102  41  13]\n",
      " [102  42  14]\n",
      " [102  42  14]\n",
      " [101  44  15]\n",
      " [102  45  16]\n",
      " [100  45  15]\n",
      " [100  45  15]\n",
      " [ 99  46  15]\n",
      " [100  47  16]\n",
      " [101  48  17]\n",
      " [100  49  18]\n",
      " [101  50  19]]\n"
     ]
    }
   ],
   "source": [
    "print(imytestsmall[0][0])"
   ]
  },
  {
   "cell_type": "code",
   "execution_count": 49,
   "metadata": {},
   "outputs": [
    {
     "data": {
      "text/plain": [
       "array([[-33, -14,   6],\n",
       "       [-22, -12,  -2],\n",
       "       [-17, -11,   1],\n",
       "       [-17, -11,  -1],\n",
       "       [-17, -12,  -1],\n",
       "       [-17, -13,   1],\n",
       "       [-16, -12,   1],\n",
       "       [-15, -12,   1],\n",
       "       [-16, -14,   0],\n",
       "       [-17, -13,   0],\n",
       "       [-16, -13,   0],\n",
       "       [-15, -12,   0],\n",
       "       [-16, -13,   1],\n",
       "       [-15, -12,   1],\n",
       "       [-14, -11,   2],\n",
       "       [-17, -13,   0],\n",
       "       [-14, -13,   0],\n",
       "       [-14, -13,  -1],\n",
       "       [-14, -14,  -1],\n",
       "       [-13, -13,   0],\n",
       "       [-13, -13,   1],\n",
       "       [-13, -13,  -1],\n",
       "       [-12, -13,   1],\n",
       "       [-12, -13,   1],\n",
       "       [-12, -13,   2],\n",
       "       [-13, -13,   2],\n",
       "       [-13, -12,   1],\n",
       "       [-13, -12,   3],\n",
       "       [-13, -12,   2],\n",
       "       [-13, -12,   3],\n",
       "       [-25, -14,   3],\n",
       "       [-39, -14,   6]])"
      ]
     },
     "execution_count": 49,
     "metadata": {},
     "output_type": "execute_result"
    }
   ],
   "source": [
    "imPredSmall.astype('int')[1][0] - imytestsmall[1][0]"
   ]
  },
  {
   "cell_type": "code",
   "execution_count": 52,
   "metadata": {},
   "outputs": [
    {
     "data": {
      "text/plain": [
       "10.778849283854166"
      ]
     },
     "execution_count": 52,
     "metadata": {},
     "output_type": "execute_result"
    }
   ],
   "source": [
    "np.mean(np.abs(imPredSmall.astype('int') - imytestsmall[0:16]))"
   ]
  },
  {
   "cell_type": "code",
   "execution_count": 94,
   "metadata": {},
   "outputs": [
    {
     "data": {
      "text/plain": [
       "6300.0"
      ]
     },
     "execution_count": 94,
     "metadata": {},
     "output_type": "execute_result"
    }
   ],
   "source": [
    "imXtestsmall.shape[0] / 16"
   ]
  },
  {
   "cell_type": "code",
   "execution_count": 104,
   "metadata": {},
   "outputs": [
    {
     "data": {
      "text/plain": [
       "81.28673981843171"
      ]
     },
     "execution_count": 104,
     "metadata": {},
     "output_type": "execute_result"
    }
   ],
   "source": [
    "np.mean(np.abs(Xtest- ytest))"
   ]
  },
  {
   "cell_type": "code",
   "execution_count": 103,
   "metadata": {},
   "outputs": [
    {
     "data": {
      "text/plain": [
       "18.3308272427352"
      ]
     },
     "execution_count": 103,
     "metadata": {},
     "output_type": "execute_result"
    }
   ],
   "source": [
    "np.mean(np.abs(Xtest.astype('int32') - ytest.astype('int32')))"
   ]
  },
  {
   "cell_type": "code",
   "execution_count": 105,
   "metadata": {},
   "outputs": [
    {
     "data": {
      "text/plain": [
       "array([[[[ 79,  34,  11],\n",
       "         [ 79,  34,  11],\n",
       "         [ 79,  34,  11],\n",
       "         ...,\n",
       "         [ 31,  22,   7],\n",
       "         [ 31,  22,   7],\n",
       "         [ 31,  22,   7]],\n",
       "\n",
       "        [[ 79,  34,  11],\n",
       "         [ 79,  34,  11],\n",
       "         [ 80,  35,  12],\n",
       "         ...,\n",
       "         [ 30,  23,   7],\n",
       "         [ 31,  22,   7],\n",
       "         [ 31,  22,   7]],\n",
       "\n",
       "        [[ 80,  35,  12],\n",
       "         [ 80,  35,  12],\n",
       "         [ 81,  37,  12],\n",
       "         ...,\n",
       "         [ 31,  24,   8],\n",
       "         [ 30,  23,   7],\n",
       "         [ 30,  23,   7]],\n",
       "\n",
       "        ...,\n",
       "\n",
       "        [[  1,   3,   0],\n",
       "         [  1,   3,   0],\n",
       "         [  1,   3,   0],\n",
       "         ...,\n",
       "         [  5,   7,   6],\n",
       "         [  3,   7,   6],\n",
       "         [  2,   8,   6]],\n",
       "\n",
       "        [[  1,   3,   0],\n",
       "         [  1,   3,   0],\n",
       "         [  1,   3,   0],\n",
       "         ...,\n",
       "         [ 11,  13,  12],\n",
       "         [ 14,  18,  17],\n",
       "         [ 14,  20,  18]],\n",
       "\n",
       "        [[  1,   3,   0],\n",
       "         [  1,   3,   0],\n",
       "         [  1,   3,   0],\n",
       "         ...,\n",
       "         [ 16,  18,  15],\n",
       "         [ 23,  27,  26],\n",
       "         [ 25,  31,  29]]],\n",
       "\n",
       "\n",
       "       [[[ 29,  39,  28],\n",
       "         [ 38,  50,  40],\n",
       "         [  0,   6,   0],\n",
       "         ...,\n",
       "         [  3,   0,   0],\n",
       "         [  1,   0,   0],\n",
       "         [  0,   0,   0]],\n",
       "\n",
       "        [[ 52,  62,  51],\n",
       "         [ 55,  65,  56],\n",
       "         [  1,  13,   3],\n",
       "         ...,\n",
       "         [  1,   0,   0],\n",
       "         [  1,   0,   0],\n",
       "         [  0,   0,   0]],\n",
       "\n",
       "        [[ 73,  83,  74],\n",
       "         [ 68,  78,  69],\n",
       "         [  7,  17,   9],\n",
       "         ...,\n",
       "         [  1,   0,   0],\n",
       "         [  0,   0,   0],\n",
       "         [  0,   0,   2]],\n",
       "\n",
       "        ...,\n",
       "\n",
       "        [[  5,  46,  52],\n",
       "         [  0,  41,  45],\n",
       "         [  0,  42,  40],\n",
       "         ...,\n",
       "         [ 30,  51,  46],\n",
       "         [ 38,  58,  59],\n",
       "         [ 43,  62,  66]],\n",
       "\n",
       "        [[  1,  44,  51],\n",
       "         [  0,  44,  47],\n",
       "         [  1,  47,  45],\n",
       "         ...,\n",
       "         [ 30,  49,  43],\n",
       "         [ 37,  55,  55],\n",
       "         [ 35,  53,  57]],\n",
       "\n",
       "        [[  0,  42,  48],\n",
       "         [  1,  46,  51],\n",
       "         [  4,  53,  50],\n",
       "         ...,\n",
       "         [ 26,  45,  39],\n",
       "         [ 28,  46,  46],\n",
       "         [ 14,  32,  36]]],\n",
       "\n",
       "\n",
       "       [[[ 21,  42,  23],\n",
       "         [ 19,  40,  21],\n",
       "         [ 19,  40,  21],\n",
       "         ...,\n",
       "         [ 35,  53,  29],\n",
       "         [ 33,  51,  27],\n",
       "         [ 31,  49,  25]],\n",
       "\n",
       "        [[ 23,  44,  25],\n",
       "         [ 21,  42,  23],\n",
       "         [ 21,  42,  23],\n",
       "         ...,\n",
       "         [ 35,  53,  29],\n",
       "         [ 34,  52,  28],\n",
       "         [ 33,  51,  27]],\n",
       "\n",
       "        [[ 23,  44,  25],\n",
       "         [ 22,  43,  24],\n",
       "         [ 22,  43,  24],\n",
       "         ...,\n",
       "         [ 36,  54,  30],\n",
       "         [ 36,  54,  30],\n",
       "         [ 36,  54,  30]],\n",
       "\n",
       "        ...,\n",
       "\n",
       "        [[ 27,  45,  21],\n",
       "         [ 29,  47,  23],\n",
       "         [ 36,  39,  20],\n",
       "         ...,\n",
       "         [ 40,  54,  37],\n",
       "         [ 40,  54,  37],\n",
       "         [ 32,  46,  29]],\n",
       "\n",
       "        [[ 17,  42,  20],\n",
       "         [ 25,  53,  30],\n",
       "         [ 23,  38,  19],\n",
       "         ...,\n",
       "         [ 38,  56,  34],\n",
       "         [ 36,  53,  34],\n",
       "         [ 29,  46,  27]],\n",
       "\n",
       "        [[ 15,  49,  25],\n",
       "         [ 18,  50,  27],\n",
       "         [ 32,  49,  31],\n",
       "         ...,\n",
       "         [ 35,  55,  30],\n",
       "         [ 33,  52,  30],\n",
       "         [ 26,  45,  23]]],\n",
       "\n",
       "\n",
       "       ...,\n",
       "\n",
       "\n",
       "       [[[ 92, 225, 242],\n",
       "         [115, 240, 255],\n",
       "         [133, 253, 255],\n",
       "         ...,\n",
       "         [ 12,  16,  27],\n",
       "         [ 10,  17,  27],\n",
       "         [ 10,  17,  27]],\n",
       "\n",
       "        [[156, 254, 255],\n",
       "         [157, 252, 255],\n",
       "         [155, 250, 255],\n",
       "         ...,\n",
       "         [ 11,  15,  26],\n",
       "         [ 10,  17,  27],\n",
       "         [ 10,  17,  27]],\n",
       "\n",
       "        [[198, 253, 248],\n",
       "         [187, 246, 244],\n",
       "         [174, 240, 238],\n",
       "         ...,\n",
       "         [  9,  13,  24],\n",
       "         [  9,  16,  26],\n",
       "         [  9,  16,  26]],\n",
       "\n",
       "        ...,\n",
       "\n",
       "        [[  4,   4,  12],\n",
       "         [  4,   4,  12],\n",
       "         [  4,   4,  12],\n",
       "         ...,\n",
       "         [  3,  11,  14],\n",
       "         [  1,   9,  12],\n",
       "         [  0,   5,   8]],\n",
       "\n",
       "        [[  4,   4,  12],\n",
       "         [  4,   4,  12],\n",
       "         [  4,   4,  12],\n",
       "         ...,\n",
       "         [  5,  12,  20],\n",
       "         [  6,  10,  19],\n",
       "         [  1,   5,  14]],\n",
       "\n",
       "        [[  4,   4,  12],\n",
       "         [  4,   4,  12],\n",
       "         [  4,   4,  12],\n",
       "         ...,\n",
       "         [  3,   7,  18],\n",
       "         [  5,   9,  20],\n",
       "         [  5,   7,  20]]],\n",
       "\n",
       "\n",
       "       [[[ 87,  73,  62],\n",
       "         [ 86,  69,  59],\n",
       "         [ 83,  66,  56],\n",
       "         ...,\n",
       "         [ 68,  61,  53],\n",
       "         [ 68,  61,  53],\n",
       "         [ 68,  61,  53]],\n",
       "\n",
       "        [[ 78,  64,  51],\n",
       "         [ 78,  64,  51],\n",
       "         [ 79,  65,  54],\n",
       "         ...,\n",
       "         [ 67,  60,  52],\n",
       "         [ 67,  60,  52],\n",
       "         [ 66,  59,  51]],\n",
       "\n",
       "        [[103,  83,  72],\n",
       "         [ 96,  78,  66],\n",
       "         [ 88,  70,  58],\n",
       "         ...,\n",
       "         [ 68,  61,  53],\n",
       "         [ 67,  60,  52],\n",
       "         [ 67,  60,  52]],\n",
       "\n",
       "        ...,\n",
       "\n",
       "        [[166, 123, 106],\n",
       "         [145, 106,  89],\n",
       "         [116,  84,  69],\n",
       "         ...,\n",
       "         [169, 126,  92],\n",
       "         [169, 126,  92],\n",
       "         [169, 126,  92]],\n",
       "\n",
       "        [[172, 124, 104],\n",
       "         [158, 113,  94],\n",
       "         [149, 112,  94],\n",
       "         ...,\n",
       "         [170, 127,  93],\n",
       "         [169, 126,  92],\n",
       "         [169, 126,  92]],\n",
       "\n",
       "        [[167, 115,  94],\n",
       "         [152, 105,  85],\n",
       "         [171, 130, 112],\n",
       "         ...,\n",
       "         [170, 127,  93],\n",
       "         [169, 126,  92],\n",
       "         [169, 126,  92]]],\n",
       "\n",
       "\n",
       "       [[[211, 140,  36],\n",
       "         [215, 146,  45],\n",
       "         [206, 137,  44],\n",
       "         ...,\n",
       "         [240, 231, 250],\n",
       "         [244, 246, 255],\n",
       "         [223, 236, 244]],\n",
       "\n",
       "        [[236, 179,  90],\n",
       "         [239, 178,  95],\n",
       "         [236, 175,  95],\n",
       "         ...,\n",
       "         [228, 229, 233],\n",
       "         [216, 224, 226],\n",
       "         [189, 204, 201]],\n",
       "\n",
       "        [[217, 167,  94],\n",
       "         [217, 163,  93],\n",
       "         [223, 163, 100],\n",
       "         ...,\n",
       "         [ 54,  53,  35],\n",
       "         [ 41,  45,  20],\n",
       "         [ 34,  45,  13]],\n",
       "\n",
       "        ...,\n",
       "\n",
       "        [[232, 232, 230],\n",
       "         [232, 232, 230],\n",
       "         [232, 232, 230],\n",
       "         ...,\n",
       "         [226, 228, 227],\n",
       "         [220, 224, 223],\n",
       "         [227, 231, 232]],\n",
       "\n",
       "        [[234, 233, 238],\n",
       "         [234, 233, 238],\n",
       "         [234, 234, 236],\n",
       "         ...,\n",
       "         [230, 232, 231],\n",
       "         [228, 232, 231],\n",
       "         [230, 234, 235]],\n",
       "\n",
       "        [[232, 231, 239],\n",
       "         [232, 231, 237],\n",
       "         [233, 232, 238],\n",
       "         ...,\n",
       "         [229, 233, 232],\n",
       "         [229, 233, 234],\n",
       "         [229, 233, 234]]]])"
      ]
     },
     "execution_count": 105,
     "metadata": {},
     "output_type": "execute_result"
    }
   ],
   "source": [
    "Xtest.astype('int32') "
   ]
  },
  {
   "cell_type": "code",
   "execution_count": 106,
   "metadata": {},
   "outputs": [
    {
     "data": {
      "text/plain": [
       "array([[[[ 79,  34,  11],\n",
       "         [ 79,  34,  11],\n",
       "         [ 79,  34,  11],\n",
       "         ...,\n",
       "         [ 31,  22,   7],\n",
       "         [ 31,  22,   7],\n",
       "         [ 31,  22,   7]],\n",
       "\n",
       "        [[ 79,  34,  11],\n",
       "         [ 79,  34,  11],\n",
       "         [ 80,  35,  12],\n",
       "         ...,\n",
       "         [ 30,  23,   7],\n",
       "         [ 31,  22,   7],\n",
       "         [ 31,  22,   7]],\n",
       "\n",
       "        [[ 80,  35,  12],\n",
       "         [ 80,  35,  12],\n",
       "         [ 81,  37,  12],\n",
       "         ...,\n",
       "         [ 31,  24,   8],\n",
       "         [ 30,  23,   7],\n",
       "         [ 30,  23,   7]],\n",
       "\n",
       "        ...,\n",
       "\n",
       "        [[  1,   3,   0],\n",
       "         [  1,   3,   0],\n",
       "         [  1,   3,   0],\n",
       "         ...,\n",
       "         [  5,   7,   6],\n",
       "         [  3,   7,   6],\n",
       "         [  2,   8,   6]],\n",
       "\n",
       "        [[  1,   3,   0],\n",
       "         [  1,   3,   0],\n",
       "         [  1,   3,   0],\n",
       "         ...,\n",
       "         [ 11,  13,  12],\n",
       "         [ 14,  18,  17],\n",
       "         [ 14,  20,  18]],\n",
       "\n",
       "        [[  1,   3,   0],\n",
       "         [  1,   3,   0],\n",
       "         [  1,   3,   0],\n",
       "         ...,\n",
       "         [ 16,  18,  15],\n",
       "         [ 23,  27,  26],\n",
       "         [ 25,  31,  29]]],\n",
       "\n",
       "\n",
       "       [[[ 29,  39,  28],\n",
       "         [ 38,  50,  40],\n",
       "         [  0,   6,   0],\n",
       "         ...,\n",
       "         [  3,   0,   0],\n",
       "         [  1,   0,   0],\n",
       "         [  0,   0,   0]],\n",
       "\n",
       "        [[ 52,  62,  51],\n",
       "         [ 55,  65,  56],\n",
       "         [  1,  13,   3],\n",
       "         ...,\n",
       "         [  1,   0,   0],\n",
       "         [  1,   0,   0],\n",
       "         [  0,   0,   0]],\n",
       "\n",
       "        [[ 73,  83,  74],\n",
       "         [ 68,  78,  69],\n",
       "         [  7,  17,   9],\n",
       "         ...,\n",
       "         [  1,   0,   0],\n",
       "         [  0,   0,   0],\n",
       "         [  0,   0,   2]],\n",
       "\n",
       "        ...,\n",
       "\n",
       "        [[  5,  46,  52],\n",
       "         [  0,  41,  45],\n",
       "         [  0,  42,  40],\n",
       "         ...,\n",
       "         [ 30,  51,  46],\n",
       "         [ 38,  58,  59],\n",
       "         [ 43,  62,  66]],\n",
       "\n",
       "        [[  1,  44,  51],\n",
       "         [  0,  44,  47],\n",
       "         [  1,  47,  45],\n",
       "         ...,\n",
       "         [ 30,  49,  43],\n",
       "         [ 37,  55,  55],\n",
       "         [ 35,  53,  57]],\n",
       "\n",
       "        [[  0,  42,  48],\n",
       "         [  1,  46,  51],\n",
       "         [  4,  53,  50],\n",
       "         ...,\n",
       "         [ 26,  45,  39],\n",
       "         [ 28,  46,  46],\n",
       "         [ 14,  32,  36]]],\n",
       "\n",
       "\n",
       "       [[[ 21,  42,  23],\n",
       "         [ 19,  40,  21],\n",
       "         [ 19,  40,  21],\n",
       "         ...,\n",
       "         [ 35,  53,  29],\n",
       "         [ 33,  51,  27],\n",
       "         [ 31,  49,  25]],\n",
       "\n",
       "        [[ 23,  44,  25],\n",
       "         [ 21,  42,  23],\n",
       "         [ 21,  42,  23],\n",
       "         ...,\n",
       "         [ 35,  53,  29],\n",
       "         [ 34,  52,  28],\n",
       "         [ 33,  51,  27]],\n",
       "\n",
       "        [[ 23,  44,  25],\n",
       "         [ 22,  43,  24],\n",
       "         [ 22,  43,  24],\n",
       "         ...,\n",
       "         [ 36,  54,  30],\n",
       "         [ 36,  54,  30],\n",
       "         [ 36,  54,  30]],\n",
       "\n",
       "        ...,\n",
       "\n",
       "        [[ 27,  45,  21],\n",
       "         [ 29,  47,  23],\n",
       "         [ 36,  39,  20],\n",
       "         ...,\n",
       "         [ 40,  54,  37],\n",
       "         [ 40,  54,  37],\n",
       "         [ 32,  46,  29]],\n",
       "\n",
       "        [[ 17,  42,  20],\n",
       "         [ 25,  53,  30],\n",
       "         [ 23,  38,  19],\n",
       "         ...,\n",
       "         [ 38,  56,  34],\n",
       "         [ 36,  53,  34],\n",
       "         [ 29,  46,  27]],\n",
       "\n",
       "        [[ 15,  49,  25],\n",
       "         [ 18,  50,  27],\n",
       "         [ 32,  49,  31],\n",
       "         ...,\n",
       "         [ 35,  55,  30],\n",
       "         [ 33,  52,  30],\n",
       "         [ 26,  45,  23]]],\n",
       "\n",
       "\n",
       "       ...,\n",
       "\n",
       "\n",
       "       [[[ 92, 225, 242],\n",
       "         [115, 240, 255],\n",
       "         [133, 253, 255],\n",
       "         ...,\n",
       "         [ 12,  16,  27],\n",
       "         [ 10,  17,  27],\n",
       "         [ 10,  17,  27]],\n",
       "\n",
       "        [[156, 254, 255],\n",
       "         [157, 252, 255],\n",
       "         [155, 250, 255],\n",
       "         ...,\n",
       "         [ 11,  15,  26],\n",
       "         [ 10,  17,  27],\n",
       "         [ 10,  17,  27]],\n",
       "\n",
       "        [[198, 253, 248],\n",
       "         [187, 246, 244],\n",
       "         [174, 240, 238],\n",
       "         ...,\n",
       "         [  9,  13,  24],\n",
       "         [  9,  16,  26],\n",
       "         [  9,  16,  26]],\n",
       "\n",
       "        ...,\n",
       "\n",
       "        [[  4,   4,  12],\n",
       "         [  4,   4,  12],\n",
       "         [  4,   4,  12],\n",
       "         ...,\n",
       "         [  3,  11,  14],\n",
       "         [  1,   9,  12],\n",
       "         [  0,   5,   8]],\n",
       "\n",
       "        [[  4,   4,  12],\n",
       "         [  4,   4,  12],\n",
       "         [  4,   4,  12],\n",
       "         ...,\n",
       "         [  5,  12,  20],\n",
       "         [  6,  10,  19],\n",
       "         [  1,   5,  14]],\n",
       "\n",
       "        [[  4,   4,  12],\n",
       "         [  4,   4,  12],\n",
       "         [  4,   4,  12],\n",
       "         ...,\n",
       "         [  3,   7,  18],\n",
       "         [  5,   9,  20],\n",
       "         [  5,   7,  20]]],\n",
       "\n",
       "\n",
       "       [[[ 87,  73,  62],\n",
       "         [ 86,  69,  59],\n",
       "         [ 83,  66,  56],\n",
       "         ...,\n",
       "         [ 68,  61,  53],\n",
       "         [ 68,  61,  53],\n",
       "         [ 68,  61,  53]],\n",
       "\n",
       "        [[ 78,  64,  51],\n",
       "         [ 78,  64,  51],\n",
       "         [ 79,  65,  54],\n",
       "         ...,\n",
       "         [ 67,  60,  52],\n",
       "         [ 67,  60,  52],\n",
       "         [ 66,  59,  51]],\n",
       "\n",
       "        [[103,  83,  72],\n",
       "         [ 96,  78,  66],\n",
       "         [ 88,  70,  58],\n",
       "         ...,\n",
       "         [ 68,  61,  53],\n",
       "         [ 67,  60,  52],\n",
       "         [ 67,  60,  52]],\n",
       "\n",
       "        ...,\n",
       "\n",
       "        [[166, 123, 106],\n",
       "         [145, 106,  89],\n",
       "         [116,  84,  69],\n",
       "         ...,\n",
       "         [169, 126,  92],\n",
       "         [169, 126,  92],\n",
       "         [169, 126,  92]],\n",
       "\n",
       "        [[172, 124, 104],\n",
       "         [158, 113,  94],\n",
       "         [149, 112,  94],\n",
       "         ...,\n",
       "         [170, 127,  93],\n",
       "         [169, 126,  92],\n",
       "         [169, 126,  92]],\n",
       "\n",
       "        [[167, 115,  94],\n",
       "         [152, 105,  85],\n",
       "         [171, 130, 112],\n",
       "         ...,\n",
       "         [170, 127,  93],\n",
       "         [169, 126,  92],\n",
       "         [169, 126,  92]]],\n",
       "\n",
       "\n",
       "       [[[211, 140,  36],\n",
       "         [215, 146,  45],\n",
       "         [206, 137,  44],\n",
       "         ...,\n",
       "         [240, 231, 250],\n",
       "         [244, 246, 255],\n",
       "         [223, 236, 244]],\n",
       "\n",
       "        [[236, 179,  90],\n",
       "         [239, 178,  95],\n",
       "         [236, 175,  95],\n",
       "         ...,\n",
       "         [228, 229, 233],\n",
       "         [216, 224, 226],\n",
       "         [189, 204, 201]],\n",
       "\n",
       "        [[217, 167,  94],\n",
       "         [217, 163,  93],\n",
       "         [223, 163, 100],\n",
       "         ...,\n",
       "         [ 54,  53,  35],\n",
       "         [ 41,  45,  20],\n",
       "         [ 34,  45,  13]],\n",
       "\n",
       "        ...,\n",
       "\n",
       "        [[232, 232, 230],\n",
       "         [232, 232, 230],\n",
       "         [232, 232, 230],\n",
       "         ...,\n",
       "         [226, 228, 227],\n",
       "         [220, 224, 223],\n",
       "         [227, 231, 232]],\n",
       "\n",
       "        [[234, 233, 238],\n",
       "         [234, 233, 238],\n",
       "         [234, 234, 236],\n",
       "         ...,\n",
       "         [230, 232, 231],\n",
       "         [228, 232, 231],\n",
       "         [230, 234, 235]],\n",
       "\n",
       "        [[232, 231, 239],\n",
       "         [232, 231, 237],\n",
       "         [233, 232, 238],\n",
       "         ...,\n",
       "         [229, 233, 232],\n",
       "         [229, 233, 234],\n",
       "         [229, 233, 234]]]], dtype=uint8)"
      ]
     },
     "execution_count": 106,
     "metadata": {},
     "output_type": "execute_result"
    }
   ],
   "source": [
    "Xtest"
   ]
  },
  {
   "cell_type": "code",
   "execution_count": null,
   "metadata": {},
   "outputs": [],
   "source": []
  }
 ],
 "metadata": {
  "kernelspec": {
   "display_name": "Python 3",
   "language": "python",
   "name": "python3"
  },
  "language_info": {
   "codemirror_mode": {
    "name": "ipython",
    "version": 3
   },
   "file_extension": ".py",
   "mimetype": "text/x-python",
   "name": "python",
   "nbconvert_exporter": "python",
   "pygments_lexer": "ipython3",
   "version": "3.6.7"
  }
 },
 "nbformat": 4,
 "nbformat_minor": 2
}
